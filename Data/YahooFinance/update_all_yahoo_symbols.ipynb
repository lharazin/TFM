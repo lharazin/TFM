{
 "cells": [
  {
   "cell_type": "markdown",
   "metadata": {},
   "source": [
    "# Updating all Yahoo Symbols\n",
    "\n",
    "Testing saving all market data at once. That logic was later used in Lambda function."
   ]
  },
  {
   "cell_type": "code",
   "execution_count": 1,
   "metadata": {},
   "outputs": [
    {
     "data": {
      "text/plain": [
       "True"
      ]
     },
     "execution_count": 1,
     "metadata": {},
     "output_type": "execute_result"
    }
   ],
   "source": [
    "import yfinance as yf\n",
    "import pandas as pd\n",
    "from datetime import date, timedelta\n",
    "\n",
    "from SqlAlquemyInsertMarketDataHandler import SqlAlquemyInsertMarketDataHandler\n",
    "from dotenv import load_dotenv\n",
    "load_dotenv()"
   ]
  },
  {
   "cell_type": "code",
   "execution_count": null,
   "metadata": {},
   "outputs": [],
   "source": [
    "yesterday = date.today() - timedelta(days=1)\n",
    "sql_handler = SqlAlquemyInsertMarketDataHandler()\n",
    "indicators = sql_handler.read_max_dates_by_symbols(source='Yahoo')\n",
    "indicators_to_update = indicators[indicators.MaxDate != yesterday]\n",
    "\n",
    "for i in range(indicators_to_update.shape[0]):\n",
    "    symbol_code = indicators_to_update.iloc[i, 0]\n",
    "    max_date = indicators_to_update.iloc[i, 1]\n",
    "\n",
    "    start_date = max_date + timedelta(days=1)\n",
    "    start_date = str(start_date)\n",
    "    end_date = str(yesterday)\n",
    "\n",
    "    print('Reading', symbol_code, 'from', start_date)\n",
    "    index_data = yf.download(symbol_code, start=start_date, end=end_date)\n",
    "    adj_close = index_data['Adj Close']\n",
    "\n",
    "    if (len(adj_close) > 0):\n",
    "        values_to_save = pd.Series(index=pd.date_range(start_date, end_date, freq='B'),\n",
    "                                   data=adj_close.round(2), name=symbol_code)\n",
    "        values_to_save = values_to_save.ffill()\n",
    "        values_to_save = values_to_save.bfill()\n",
    "        sql_handler.save_to_db(symbol_code, values_to_save)"
   ]
  }
 ],
 "metadata": {
  "kernelspec": {
   "display_name": "venv",
   "language": "python",
   "name": "python3"
  },
  "language_info": {
   "codemirror_mode": {
    "name": "ipython",
    "version": 3
   },
   "file_extension": ".py",
   "mimetype": "text/x-python",
   "name": "python",
   "nbconvert_exporter": "python",
   "pygments_lexer": "ipython3",
   "version": "3.11.5"
  }
 },
 "nbformat": 4,
 "nbformat_minor": 2
}
