{
 "cells": [
  {
   "cell_type": "code",
   "execution_count": 423,
   "metadata": {},
   "outputs": [],
   "source": [
    "import yfinance as yf\n",
    "import pandas as pd\n",
    "import numpy as np"
   ]
  },
  {
   "cell_type": "markdown",
   "metadata": {},
   "source": [
    "Full list of indices:\n",
    "\n",
    "https://www.investing.com/indices/world-indices"
   ]
  },
  {
   "cell_type": "code",
   "execution_count": 424,
   "metadata": {},
   "outputs": [],
   "source": [
    "stock_indexes = dict()\n",
    "stock_indexes.update({'United States': '^GSPC'}) # S&P 500\n",
    "stock_indexes.update({'Japan': '^N225'}) # Nikkei 225\n",
    "stock_indexes.update({'United Kingdom': '^FTSE'}) # FTSE 100\n",
    "stock_indexes.update({'Canada': '^GSPTSE'}) # S&P/TSX Composite index\n",
    "stock_indexes.update({'France': '^FCHI'}) # CAC 40\n",
    "stock_indexes.update({'Switzerland': '^SSMI'}) # SMI PR\n",
    "stock_indexes.update({'Germany': '^GDAXI'}) # DAX PERFORMANCE-INDEX\n",
    "stock_indexes.update({'Australia': '^AXJO'}) # S&P/ASX 200\n",
    "stock_indexes.update({'Netherlands': '^AEX'}) # AEX-Index\n",
    "stock_indexes.update({'Denmark': ''}) \n",
    "stock_indexes.update({'Sweden': '^OMX'}) # OMX Stockholm 30 Index (from 2008-11-20)\n",
    "stock_indexes.update({'Spain': '^IBEX'}) # IBEX 35\n",
    "stock_indexes.update({'Hong Kong': '^HSI'}) # HANG SENG INDEX\n",
    "stock_indexes.update({'Italy': 'FTSEMIB.MI'}) #FTSE MIB Index\n",
    "stock_indexes.update({'Singapore': '^STI'}) # STI Index\n",
    "stock_indexes.update({'Finland': '^OMXH25'}) # OMX Helsinki 25 (from 2013-03-05)\n",
    "stock_indexes.update({'Belgium': '^BFX'}) # BEL 20\n",
    "stock_indexes.update({'Norway': ''})\n",
    "stock_indexes.update({'Israel': '^TA125.TA'}) # TA-125\n",
    "stock_indexes.update({'Ireland': '^ISEQ'}) # ISEQ All Share\n",
    "stock_indexes.update({'New Zealand': '^NZ50'}) # S&P/NZX 50 INDEX GROSS (from 2003-01-03)\n",
    "stock_indexes.update({'Austria': '^ATX'}) # Austrian Traded Index\n",
    "stock_indexes.update({'Portugal': 'PSI20.LS'}) # PSI 20 (from 2013-04-30)\n",
    "stock_indexes.update({'Eurozona': '^STOXX50E'}) # Euro Stoxx 50 (from 2007-03-30)\n",
    "\n",
    "stock_indexes.update({'China': '000001.SS'}) # SSE Composite Index\n",
    "stock_indexes.update({'Taiwan': '^TWII'}) # TSEC weighted index\n",
    "stock_indexes.update({'India': '^BSESN'}) # S&P BSE SENSEX\n",
    "stock_indexes.update({'Korea': '^KS11'}) # KOSPI Composite Index\n",
    "stock_indexes.update({'Brazil': '^BVSP'}) # IBOVESPA \n",
    "stock_indexes.update({'Saudi Arabia': '^TASI.SR'}) # Tadawul All Shares Index\n",
    "stock_indexes.update({'South Africa': ''}) \n",
    "stock_indexes.update({'Mexico': '^MXX'}) # IPC MEXICO\n",
    "stock_indexes.update({'Thailand': '^SET.BK'}) # SET Index\n",
    "stock_indexes.update({'Indonesia': '^JKSE'}) # IDX COMPOSITE\n",
    "stock_indexes.update({'Malaysia': '^KLSE'}) # FTSE Bursa Malaysia KLCI\n",
    "#stock_indexes.update({'United Arab Emirates': ''}) \n",
    "#stock_indexes.update({'Qatar': ''}) \n",
    "#stock_indexes.update({'Kuwait': ''})\n",
    "stock_indexes.update({'Turkiye': 'XU100.IS'}) # BIST 100\n",
    "stock_indexes.update({'Philippines': 'PSEI.PS'}) # PSEi INDEX\n",
    "stock_indexes.update({'Poland': ''})\n",
    "stock_indexes.update({'Chile': ''})\n",
    "stock_indexes.update({'Greece': 'GD.AT'}) # COMPOSITE INDEX\n",
    "#stock_indexes.update({'Peru': ''})\n",
    "stock_indexes.update({'Hungary': ''})\n",
    "stock_indexes.update({'Czechia': ''})\n",
    "#stock_indexes.update({'Egypt': ''})\n",
    "stock_indexes.update({'Colombia': ''})\n",
    "stock_indexes.update({'Argentina': '^MERV'}) # MERVAL\n",
    "stock_indexes.update({'Russia': 'IMOEX.ME'}) # MOEX Russia Index (from 2013-03-05)"
   ]
  },
  {
   "cell_type": "code",
   "execution_count": 425,
   "metadata": {},
   "outputs": [
    {
     "name": "stdout",
     "output_type": "stream",
     "text": [
      "[*********************100%%**********************]  1 of 1 completed\n",
      "United States (6221, 6)\n",
      "[*********************100%%**********************]  1 of 1 completed\n",
      "Japan (6059, 6)\n",
      "[*********************100%%**********************]  1 of 1 completed\n",
      "United Kingdom (6244, 6)\n",
      "[*********************100%%**********************]  1 of 1 completed\n",
      "Canada (6212, 6)\n",
      "[*********************100%%**********************]  1 of 1 completed\n",
      "France (6320, 6)\n",
      "[*********************100%%**********************]  1 of 1 completed\n",
      "Switzerland (6213, 6)\n",
      "[*********************100%%**********************]  1 of 1 completed\n",
      "Germany (6279, 6)\n",
      "[*********************100%%**********************]  1 of 1 completed\n",
      "Australia (6247, 6)\n",
      "[*********************100%%**********************]  1 of 1 completed\n",
      "Netherlands (6323, 6)\n",
      "[*********************100%%**********************]  1 of 1 completed\n",
      "Sweden (3723, 6)\n",
      "[*********************100%%**********************]  1 of 1 completed\n",
      "Spain (6284, 6)\n",
      "[*********************100%%**********************]  1 of 1 completed\n",
      "Hong Kong (6095, 6)\n",
      "[*********************100%%**********************]  1 of 1 completed\n",
      "Italy (6319, 6)\n",
      "[*********************100%%**********************]  1 of 1 completed\n",
      "Singapore (6187, 6)\n",
      "[*********************100%%**********************]  1 of 1 completed\n",
      "Finland (2640, 6)\n",
      "[*********************100%%**********************]  1 of 1 completed\n",
      "Belgium (6315, 6)\n",
      "[*********************100%%**********************]  1 of 1 completed\n",
      "Israel (5179, 6)\n",
      "[*********************100%%**********************]  1 of 1 completed\n",
      "Ireland (6255, 6)\n",
      "[*********************100%%**********************]  1 of 1 completed\n",
      "New Zealand (5106, 6)\n",
      "[*********************100%%**********************]  1 of 1 completed\n",
      "Austria (6140, 6)\n",
      "[*********************100%%**********************]  1 of 1 completed\n",
      "Portugal (2651, 6)\n",
      "[*********************100%%**********************]  1 of 1 completed\n",
      "Eurozona (4134, 6)\n",
      "[*********************100%%**********************]  1 of 1 completed\n",
      "China (5984, 6)\n",
      "[*********************100%%**********************]  1 of 1 completed\n",
      "Taiwan (6067, 6)\n",
      "[*********************100%%**********************]  1 of 1 completed\n",
      "India (6097, 6)\n",
      "[*********************100%%**********************]  1 of 1 completed\n",
      "Korea (6103, 6)\n",
      "[*********************100%%**********************]  1 of 1 completed\n",
      "Brazil (6121, 6)\n",
      "[*********************100%%**********************]  1 of 1 completed\n",
      "Saudi Arabia (5257, 6)\n",
      "[*********************100%%**********************]  1 of 1 completed\n",
      "Mexico (6210, 6)\n",
      "[*********************100%%**********************]  1 of 1 completed\n",
      "Thailand (6035, 6)\n",
      "[*********************100%%**********************]  1 of 1 completed\n",
      "Indonesia (6017, 6)\n",
      "[*********************100%%**********************]  1 of 1 completed\n",
      "Malaysia (6068, 6)\n",
      "[*********************100%%**********************]  1 of 1 completed\n",
      "Turkiye (6172, 6)\n",
      "[*********************100%%**********************]  1 of 1 completed\n",
      "Philippines (6149, 6)\n",
      "[*********************100%%**********************]  1 of 1 completed\n",
      "Greece (6132, 6)\n",
      "[*********************100%%**********************]  1 of 1 completed\n",
      "Argentina (6045, 6)\n",
      "[*********************100%%**********************]  1 of 1 completed\n",
      "Russia (2597, 6)\n"
     ]
    }
   ],
   "source": [
    "df = pd.DataFrame(index=pd.date_range('1999-01-04', '2023-09-20', freq='B'),\n",
    "                  columns=stock_indexes)\n",
    "\n",
    "for country in stock_indexes:\n",
    "    index_ticker = stock_indexes[country]\n",
    "    if index_ticker != '':\n",
    "        index_data = yf.download(index_ticker, '1999-1-1')\n",
    "        print(country, index_data.shape)\n",
    "        df[country] = index_data['Adj Close']"
   ]
  },
  {
   "cell_type": "code",
   "execution_count": 426,
   "metadata": {},
   "outputs": [
    {
     "data": {
      "text/html": [
       "<div>\n",
       "<style scoped>\n",
       "    .dataframe tbody tr th:only-of-type {\n",
       "        vertical-align: middle;\n",
       "    }\n",
       "\n",
       "    .dataframe tbody tr th {\n",
       "        vertical-align: top;\n",
       "    }\n",
       "\n",
       "    .dataframe thead th {\n",
       "        text-align: right;\n",
       "    }\n",
       "</style>\n",
       "<table border=\"1\" class=\"dataframe\">\n",
       "  <thead>\n",
       "    <tr style=\"text-align: right;\">\n",
       "      <th></th>\n",
       "      <th>United States</th>\n",
       "      <th>Japan</th>\n",
       "      <th>United Kingdom</th>\n",
       "      <th>Canada</th>\n",
       "      <th>France</th>\n",
       "      <th>Switzerland</th>\n",
       "      <th>Germany</th>\n",
       "      <th>Australia</th>\n",
       "      <th>Netherlands</th>\n",
       "      <th>Denmark</th>\n",
       "      <th>...</th>\n",
       "      <th>Turkiye</th>\n",
       "      <th>Philippines</th>\n",
       "      <th>Poland</th>\n",
       "      <th>Chile</th>\n",
       "      <th>Greece</th>\n",
       "      <th>Hungary</th>\n",
       "      <th>Czechia</th>\n",
       "      <th>Colombia</th>\n",
       "      <th>Argentina</th>\n",
       "      <th>Russia</th>\n",
       "    </tr>\n",
       "  </thead>\n",
       "  <tbody>\n",
       "    <tr>\n",
       "      <th>1999-01-04</th>\n",
       "      <td>1228.099976</td>\n",
       "      <td>13415.889648</td>\n",
       "      <td>5879.399902</td>\n",
       "      <td>6554.299805</td>\n",
       "      <td>4147.500000</td>\n",
       "      <td>7441.799805</td>\n",
       "      <td>5290.359863</td>\n",
       "      <td>2732.199951</td>\n",
       "      <td>558.950012</td>\n",
       "      <td>NaN</td>\n",
       "      <td>...</td>\n",
       "      <td>2758.399902</td>\n",
       "      <td>1980.190796</td>\n",
       "      <td>NaN</td>\n",
       "      <td>NaN</td>\n",
       "      <td>2921.280029</td>\n",
       "      <td>NaN</td>\n",
       "      <td>NaN</td>\n",
       "      <td>NaN</td>\n",
       "      <td>433.399994</td>\n",
       "      <td>NaN</td>\n",
       "    </tr>\n",
       "    <tr>\n",
       "      <th>1999-01-05</th>\n",
       "      <td>1244.780029</td>\n",
       "      <td>13232.740234</td>\n",
       "      <td>5958.200195</td>\n",
       "      <td>6660.500000</td>\n",
       "      <td>4200.779785</td>\n",
       "      <td>7545.799805</td>\n",
       "      <td>5263.410156</td>\n",
       "      <td>2716.600098</td>\n",
       "      <td>566.510010</td>\n",
       "      <td>NaN</td>\n",
       "      <td>...</td>\n",
       "      <td>2823.500000</td>\n",
       "      <td>2006.334106</td>\n",
       "      <td>NaN</td>\n",
       "      <td>NaN</td>\n",
       "      <td>2907.139893</td>\n",
       "      <td>NaN</td>\n",
       "      <td>NaN</td>\n",
       "      <td>NaN</td>\n",
       "      <td>437.799988</td>\n",
       "      <td>NaN</td>\n",
       "    </tr>\n",
       "    <tr>\n",
       "      <th>1999-01-06</th>\n",
       "      <td>1272.339966</td>\n",
       "      <td>13468.459961</td>\n",
       "      <td>6148.799805</td>\n",
       "      <td>6805.299805</td>\n",
       "      <td>4294.819824</td>\n",
       "      <td>7668.799805</td>\n",
       "      <td>5442.899902</td>\n",
       "      <td>2755.600098</td>\n",
       "      <td>583.659973</td>\n",
       "      <td>NaN</td>\n",
       "      <td>...</td>\n",
       "      <td>2886.000000</td>\n",
       "      <td>2079.215332</td>\n",
       "      <td>NaN</td>\n",
       "      <td>NaN</td>\n",
       "      <td>NaN</td>\n",
       "      <td>NaN</td>\n",
       "      <td>NaN</td>\n",
       "      <td>NaN</td>\n",
       "      <td>444.100006</td>\n",
       "      <td>NaN</td>\n",
       "    </tr>\n",
       "    <tr>\n",
       "      <th>1999-01-07</th>\n",
       "      <td>1269.729980</td>\n",
       "      <td>13536.559570</td>\n",
       "      <td>6101.200195</td>\n",
       "      <td>6802.200195</td>\n",
       "      <td>4230.669922</td>\n",
       "      <td>7549.700195</td>\n",
       "      <td>5345.709961</td>\n",
       "      <td>2800.399902</td>\n",
       "      <td>561.080017</td>\n",
       "      <td>NaN</td>\n",
       "      <td>...</td>\n",
       "      <td>2763.500000</td>\n",
       "      <td>2134.361084</td>\n",
       "      <td>NaN</td>\n",
       "      <td>NaN</td>\n",
       "      <td>3000.750000</td>\n",
       "      <td>NaN</td>\n",
       "      <td>NaN</td>\n",
       "      <td>NaN</td>\n",
       "      <td>438.899994</td>\n",
       "      <td>NaN</td>\n",
       "    </tr>\n",
       "    <tr>\n",
       "      <th>1999-01-08</th>\n",
       "      <td>1275.089966</td>\n",
       "      <td>13391.809570</td>\n",
       "      <td>6147.200195</td>\n",
       "      <td>6868.899902</td>\n",
       "      <td>4245.419922</td>\n",
       "      <td>7633.700195</td>\n",
       "      <td>5370.509766</td>\n",
       "      <td>2757.399902</td>\n",
       "      <td>559.270020</td>\n",
       "      <td>NaN</td>\n",
       "      <td>...</td>\n",
       "      <td>2721.500000</td>\n",
       "      <td>2140.089600</td>\n",
       "      <td>NaN</td>\n",
       "      <td>NaN</td>\n",
       "      <td>3003.540039</td>\n",
       "      <td>NaN</td>\n",
       "      <td>NaN</td>\n",
       "      <td>NaN</td>\n",
       "      <td>426.799988</td>\n",
       "      <td>NaN</td>\n",
       "    </tr>\n",
       "    <tr>\n",
       "      <th>...</th>\n",
       "      <td>...</td>\n",
       "      <td>...</td>\n",
       "      <td>...</td>\n",
       "      <td>...</td>\n",
       "      <td>...</td>\n",
       "      <td>...</td>\n",
       "      <td>...</td>\n",
       "      <td>...</td>\n",
       "      <td>...</td>\n",
       "      <td>...</td>\n",
       "      <td>...</td>\n",
       "      <td>...</td>\n",
       "      <td>...</td>\n",
       "      <td>...</td>\n",
       "      <td>...</td>\n",
       "      <td>...</td>\n",
       "      <td>...</td>\n",
       "      <td>...</td>\n",
       "      <td>...</td>\n",
       "      <td>...</td>\n",
       "      <td>...</td>\n",
       "    </tr>\n",
       "    <tr>\n",
       "      <th>2023-09-14</th>\n",
       "      <td>4505.100098</td>\n",
       "      <td>33168.101562</td>\n",
       "      <td>7673.100098</td>\n",
       "      <td>20567.800781</td>\n",
       "      <td>7308.669922</td>\n",
       "      <td>11098.320312</td>\n",
       "      <td>15805.290039</td>\n",
       "      <td>7186.500000</td>\n",
       "      <td>744.460022</td>\n",
       "      <td>NaN</td>\n",
       "      <td>...</td>\n",
       "      <td>8118.799805</td>\n",
       "      <td>6208.399902</td>\n",
       "      <td>NaN</td>\n",
       "      <td>NaN</td>\n",
       "      <td>1233.810059</td>\n",
       "      <td>NaN</td>\n",
       "      <td>NaN</td>\n",
       "      <td>NaN</td>\n",
       "      <td>571753.312500</td>\n",
       "      <td>3139.489990</td>\n",
       "    </tr>\n",
       "    <tr>\n",
       "      <th>2023-09-15</th>\n",
       "      <td>4450.319824</td>\n",
       "      <td>33533.089844</td>\n",
       "      <td>7711.399902</td>\n",
       "      <td>20622.300781</td>\n",
       "      <td>7378.819824</td>\n",
       "      <td>11197.719727</td>\n",
       "      <td>15893.530273</td>\n",
       "      <td>7279.000000</td>\n",
       "      <td>741.510010</td>\n",
       "      <td>NaN</td>\n",
       "      <td>...</td>\n",
       "      <td>7962.000000</td>\n",
       "      <td>6126.339844</td>\n",
       "      <td>NaN</td>\n",
       "      <td>NaN</td>\n",
       "      <td>1258.579956</td>\n",
       "      <td>NaN</td>\n",
       "      <td>NaN</td>\n",
       "      <td>NaN</td>\n",
       "      <td>567513.375000</td>\n",
       "      <td>3152.530029</td>\n",
       "    </tr>\n",
       "    <tr>\n",
       "      <th>2023-09-18</th>\n",
       "      <td>4453.529785</td>\n",
       "      <td>NaN</td>\n",
       "      <td>7652.899902</td>\n",
       "      <td>20492.800781</td>\n",
       "      <td>7276.140137</td>\n",
       "      <td>11090.610352</td>\n",
       "      <td>15727.120117</td>\n",
       "      <td>7230.399902</td>\n",
       "      <td>735.849976</td>\n",
       "      <td>NaN</td>\n",
       "      <td>...</td>\n",
       "      <td>7680.399902</td>\n",
       "      <td>6124.569824</td>\n",
       "      <td>NaN</td>\n",
       "      <td>NaN</td>\n",
       "      <td>1251.660034</td>\n",
       "      <td>NaN</td>\n",
       "      <td>NaN</td>\n",
       "      <td>NaN</td>\n",
       "      <td>585204.500000</td>\n",
       "      <td>3135.179932</td>\n",
       "    </tr>\n",
       "    <tr>\n",
       "      <th>2023-09-19</th>\n",
       "      <td>4443.950195</td>\n",
       "      <td>33242.589844</td>\n",
       "      <td>7660.200195</td>\n",
       "      <td>20218.900391</td>\n",
       "      <td>7282.120117</td>\n",
       "      <td>11068.700195</td>\n",
       "      <td>15664.480469</td>\n",
       "      <td>7196.600098</td>\n",
       "      <td>734.929993</td>\n",
       "      <td>NaN</td>\n",
       "      <td>...</td>\n",
       "      <td>7784.000000</td>\n",
       "      <td>6047.970215</td>\n",
       "      <td>NaN</td>\n",
       "      <td>NaN</td>\n",
       "      <td>1227.780029</td>\n",
       "      <td>NaN</td>\n",
       "      <td>NaN</td>\n",
       "      <td>NaN</td>\n",
       "      <td>576676.125000</td>\n",
       "      <td>3083.850098</td>\n",
       "    </tr>\n",
       "    <tr>\n",
       "      <th>2023-09-20</th>\n",
       "      <td>4402.200195</td>\n",
       "      <td>33023.781250</td>\n",
       "      <td>7731.700195</td>\n",
       "      <td>20214.699219</td>\n",
       "      <td>7330.790039</td>\n",
       "      <td>11154.110352</td>\n",
       "      <td>15781.589844</td>\n",
       "      <td>7163.299805</td>\n",
       "      <td>738.320007</td>\n",
       "      <td>NaN</td>\n",
       "      <td>...</td>\n",
       "      <td>7719.799805</td>\n",
       "      <td>6041.040039</td>\n",
       "      <td>NaN</td>\n",
       "      <td>NaN</td>\n",
       "      <td>1200.310059</td>\n",
       "      <td>NaN</td>\n",
       "      <td>NaN</td>\n",
       "      <td>NaN</td>\n",
       "      <td>562032.625000</td>\n",
       "      <td>3068.149902</td>\n",
       "    </tr>\n",
       "  </tbody>\n",
       "</table>\n",
       "<p>6448 rows × 45 columns</p>\n",
       "</div>"
      ],
      "text/plain": [
       "            United States         Japan  United Kingdom        Canada  \\\n",
       "1999-01-04    1228.099976  13415.889648     5879.399902   6554.299805   \n",
       "1999-01-05    1244.780029  13232.740234     5958.200195   6660.500000   \n",
       "1999-01-06    1272.339966  13468.459961     6148.799805   6805.299805   \n",
       "1999-01-07    1269.729980  13536.559570     6101.200195   6802.200195   \n",
       "1999-01-08    1275.089966  13391.809570     6147.200195   6868.899902   \n",
       "...                   ...           ...             ...           ...   \n",
       "2023-09-14    4505.100098  33168.101562     7673.100098  20567.800781   \n",
       "2023-09-15    4450.319824  33533.089844     7711.399902  20622.300781   \n",
       "2023-09-18    4453.529785           NaN     7652.899902  20492.800781   \n",
       "2023-09-19    4443.950195  33242.589844     7660.200195  20218.900391   \n",
       "2023-09-20    4402.200195  33023.781250     7731.700195  20214.699219   \n",
       "\n",
       "                 France   Switzerland       Germany    Australia  Netherlands  \\\n",
       "1999-01-04  4147.500000   7441.799805   5290.359863  2732.199951   558.950012   \n",
       "1999-01-05  4200.779785   7545.799805   5263.410156  2716.600098   566.510010   \n",
       "1999-01-06  4294.819824   7668.799805   5442.899902  2755.600098   583.659973   \n",
       "1999-01-07  4230.669922   7549.700195   5345.709961  2800.399902   561.080017   \n",
       "1999-01-08  4245.419922   7633.700195   5370.509766  2757.399902   559.270020   \n",
       "...                 ...           ...           ...          ...          ...   \n",
       "2023-09-14  7308.669922  11098.320312  15805.290039  7186.500000   744.460022   \n",
       "2023-09-15  7378.819824  11197.719727  15893.530273  7279.000000   741.510010   \n",
       "2023-09-18  7276.140137  11090.610352  15727.120117  7230.399902   735.849976   \n",
       "2023-09-19  7282.120117  11068.700195  15664.480469  7196.600098   734.929993   \n",
       "2023-09-20  7330.790039  11154.110352  15781.589844  7163.299805   738.320007   \n",
       "\n",
       "           Denmark  ...      Turkiye  Philippines  Poland  Chile       Greece  \\\n",
       "1999-01-04     NaN  ...  2758.399902  1980.190796     NaN    NaN  2921.280029   \n",
       "1999-01-05     NaN  ...  2823.500000  2006.334106     NaN    NaN  2907.139893   \n",
       "1999-01-06     NaN  ...  2886.000000  2079.215332     NaN    NaN          NaN   \n",
       "1999-01-07     NaN  ...  2763.500000  2134.361084     NaN    NaN  3000.750000   \n",
       "1999-01-08     NaN  ...  2721.500000  2140.089600     NaN    NaN  3003.540039   \n",
       "...            ...  ...          ...          ...     ...    ...          ...   \n",
       "2023-09-14     NaN  ...  8118.799805  6208.399902     NaN    NaN  1233.810059   \n",
       "2023-09-15     NaN  ...  7962.000000  6126.339844     NaN    NaN  1258.579956   \n",
       "2023-09-18     NaN  ...  7680.399902  6124.569824     NaN    NaN  1251.660034   \n",
       "2023-09-19     NaN  ...  7784.000000  6047.970215     NaN    NaN  1227.780029   \n",
       "2023-09-20     NaN  ...  7719.799805  6041.040039     NaN    NaN  1200.310059   \n",
       "\n",
       "            Hungary  Czechia Colombia      Argentina       Russia  \n",
       "1999-01-04      NaN      NaN      NaN     433.399994          NaN  \n",
       "1999-01-05      NaN      NaN      NaN     437.799988          NaN  \n",
       "1999-01-06      NaN      NaN      NaN     444.100006          NaN  \n",
       "1999-01-07      NaN      NaN      NaN     438.899994          NaN  \n",
       "1999-01-08      NaN      NaN      NaN     426.799988          NaN  \n",
       "...             ...      ...      ...            ...          ...  \n",
       "2023-09-14      NaN      NaN      NaN  571753.312500  3139.489990  \n",
       "2023-09-15      NaN      NaN      NaN  567513.375000  3152.530029  \n",
       "2023-09-18      NaN      NaN      NaN  585204.500000  3135.179932  \n",
       "2023-09-19      NaN      NaN      NaN  576676.125000  3083.850098  \n",
       "2023-09-20      NaN      NaN      NaN  562032.625000  3068.149902  \n",
       "\n",
       "[6448 rows x 45 columns]"
      ]
     },
     "execution_count": 426,
     "metadata": {},
     "output_type": "execute_result"
    }
   ],
   "source": [
    "df"
   ]
  },
  {
   "cell_type": "code",
   "execution_count": 427,
   "metadata": {},
   "outputs": [
    {
     "name": "stdout",
     "output_type": "stream",
     "text": [
      "Denmark No data\n",
      "Sweden 2008-11-20 00:00:00\n",
      "Finland 2013-03-05 00:00:00\n",
      "Norway No data\n",
      "New Zealand 2003-01-03 00:00:00\n",
      "Portugal 2013-04-30 00:00:00\n",
      "Eurozona 2007-03-30 00:00:00\n",
      "South Africa No data\n",
      "Poland No data\n",
      "Chile No data\n",
      "Hungary No data\n",
      "Czechia No data\n",
      "Colombia No data\n",
      "Russia 2013-03-05 00:00:00\n"
     ]
    }
   ],
   "source": [
    "for country in stock_indexes:\n",
    "    if stock_indexes[country] == '':\n",
    "        print(country, 'No data')\n",
    "        continue\n",
    "    \n",
    "    first_valid = df[country].first_valid_index()\n",
    "    if not str(first_valid).startswith('1999-01-04') and not str(first_valid).startswith('1999-01-05'):\n",
    "        print(country, first_valid)"
   ]
  },
  {
   "cell_type": "code",
   "execution_count": 428,
   "metadata": {},
   "outputs": [
    {
     "name": "stdout",
     "output_type": "stream",
     "text": [
      "Denmark None\n",
      "Norway None\n",
      "South Africa None\n",
      "Poland None\n",
      "Chile None\n",
      "Hungary None\n",
      "Czechia None\n",
      "Colombia None\n"
     ]
    }
   ],
   "source": [
    "for country in df.columns:\n",
    "    last_valid = df[country].last_valid_index()\n",
    "    if not str(last_valid).startswith('2023-09-20'):\n",
    "        print(country, last_valid)"
   ]
  },
  {
   "cell_type": "markdown",
   "metadata": {},
   "source": [
    "### Filling missing data from CSV files"
   ]
  },
  {
   "cell_type": "code",
   "execution_count": 429,
   "metadata": {},
   "outputs": [],
   "source": [
    "def fill_missing_data_from_csv(df, country, filename):\n",
    "    df_csv = pd.read_csv(filename, parse_dates=True, \n",
    "                         index_col=0, thousands=',')\n",
    "    df_csv = df_csv.sort_index()\n",
    "\n",
    "    first_valid = df[country].first_valid_index()\n",
    "    df[country].loc[:first_valid] = df_csv['Price'].loc[:first_valid]\n",
    "    print(country, 'Starting from', df[country].first_valid_index())"
   ]
  },
  {
   "cell_type": "code",
   "execution_count": 430,
   "metadata": {},
   "outputs": [],
   "source": [
    "def fill_entire_data_from_csv(df, country, filename):\n",
    "    df_csv = pd.read_csv(filename, parse_dates=True, \n",
    "                         index_col=0, thousands=',')\n",
    "    df_csv = df_csv.sort_index()\n",
    "\n",
    "    df[country] = df_csv['Price']\n",
    "    print(country, 'Starting from', df[country].first_valid_index())"
   ]
  },
  {
   "cell_type": "code",
   "execution_count": 431,
   "metadata": {},
   "outputs": [
    {
     "name": "stdout",
     "output_type": "stream",
     "text": [
      "Denmark Starting from 2001-02-12 00:00:00\n"
     ]
    }
   ],
   "source": [
    "# https://www.investing.com/indices/omx-copenhagen-20-historical-data\n",
    "\n",
    "denmark_csv = 'indices_selected_countries/OMX Copenhagen 20 Historical Data.csv'\n",
    "fill_entire_data_from_csv(df, 'Denmark', denmark_csv)"
   ]
  },
  {
   "cell_type": "code",
   "execution_count": 432,
   "metadata": {},
   "outputs": [
    {
     "name": "stdout",
     "output_type": "stream",
     "text": [
      "Sweden Starting from 1999-01-04 00:00:00\n"
     ]
    },
    {
     "name": "stderr",
     "output_type": "stream",
     "text": [
      "C:\\Users\\lukas\\AppData\\Local\\Temp\\ipykernel_13428\\3682031062.py:7: SettingWithCopyWarning: \n",
      "A value is trying to be set on a copy of a slice from a DataFrame\n",
      "\n",
      "See the caveats in the documentation: https://pandas.pydata.org/pandas-docs/stable/user_guide/indexing.html#returning-a-view-versus-a-copy\n",
      "  df[country].loc[:first_valid] = df_csv['Price'].loc[:first_valid]\n"
     ]
    }
   ],
   "source": [
    "sweden_csv = 'indices_selected_countries/OMX Stockholm 30 Historical Data.csv'\n",
    "fill_missing_data_from_csv(df, 'Sweden', sweden_csv)"
   ]
  },
  {
   "cell_type": "code",
   "execution_count": 433,
   "metadata": {},
   "outputs": [
    {
     "name": "stdout",
     "output_type": "stream",
     "text": [
      "Finland Starting from 2001-03-09 00:00:00\n"
     ]
    },
    {
     "name": "stderr",
     "output_type": "stream",
     "text": [
      "C:\\Users\\lukas\\AppData\\Local\\Temp\\ipykernel_13428\\3682031062.py:7: SettingWithCopyWarning: \n",
      "A value is trying to be set on a copy of a slice from a DataFrame\n",
      "\n",
      "See the caveats in the documentation: https://pandas.pydata.org/pandas-docs/stable/user_guide/indexing.html#returning-a-view-versus-a-copy\n",
      "  df[country].loc[:first_valid] = df_csv['Price'].loc[:first_valid]\n"
     ]
    }
   ],
   "source": [
    "finland_csv = 'indices_selected_countries/OMX Helsinki 25 Historical Data.csv'\n",
    "fill_missing_data_from_csv(df, 'Finland', finland_csv)"
   ]
  },
  {
   "cell_type": "code",
   "execution_count": 434,
   "metadata": {},
   "outputs": [
    {
     "name": "stdout",
     "output_type": "stream",
     "text": [
      "Norway Starting from 1999-09-08 00:00:00\n"
     ]
    }
   ],
   "source": [
    "# https://www.investing.com/indices/oslo-obx-historical-data\n",
    "\n",
    "norway_csv = 'indices_selected_countries/Oslo OBX Historical Data.csv'\n",
    "fill_entire_data_from_csv(df, 'Norway', norway_csv)"
   ]
  },
  {
   "cell_type": "code",
   "execution_count": 435,
   "metadata": {},
   "outputs": [
    {
     "name": "stdout",
     "output_type": "stream",
     "text": [
      "New Zealand Starting from 2001-01-03 00:00:00\n"
     ]
    },
    {
     "name": "stderr",
     "output_type": "stream",
     "text": [
      "C:\\Users\\lukas\\AppData\\Local\\Temp\\ipykernel_13428\\3682031062.py:7: SettingWithCopyWarning: \n",
      "A value is trying to be set on a copy of a slice from a DataFrame\n",
      "\n",
      "See the caveats in the documentation: https://pandas.pydata.org/pandas-docs/stable/user_guide/indexing.html#returning-a-view-versus-a-copy\n",
      "  df[country].loc[:first_valid] = df_csv['Price'].loc[:first_valid]\n"
     ]
    }
   ],
   "source": [
    "new_zealand_csv = 'indices_selected_countries/NZX 50 Historical Data.csv'\n",
    "fill_missing_data_from_csv(df, 'New Zealand', new_zealand_csv)"
   ]
  },
  {
   "cell_type": "code",
   "execution_count": 436,
   "metadata": {},
   "outputs": [
    {
     "name": "stdout",
     "output_type": "stream",
     "text": [
      "Portugal Starting from 2010-05-25 00:00:00\n"
     ]
    },
    {
     "name": "stderr",
     "output_type": "stream",
     "text": [
      "C:\\Users\\lukas\\AppData\\Local\\Temp\\ipykernel_13428\\3682031062.py:7: SettingWithCopyWarning: \n",
      "A value is trying to be set on a copy of a slice from a DataFrame\n",
      "\n",
      "See the caveats in the documentation: https://pandas.pydata.org/pandas-docs/stable/user_guide/indexing.html#returning-a-view-versus-a-copy\n",
      "  df[country].loc[:first_valid] = df_csv['Price'].loc[:first_valid]\n"
     ]
    }
   ],
   "source": [
    "portugal_csv = 'indices_selected_countries/PSI Historical Data.csv'\n",
    "fill_missing_data_from_csv(df, 'Portugal', portugal_csv)"
   ]
  },
  {
   "cell_type": "code",
   "execution_count": 437,
   "metadata": {},
   "outputs": [
    {
     "name": "stdout",
     "output_type": "stream",
     "text": [
      "South Africa Starting from 1999-01-04 00:00:00\n"
     ]
    }
   ],
   "source": [
    "# https://www.investing.com/indices/ftse-jse-top-40-historical-data\n",
    "\n",
    "south_africa_csv = 'indices_selected_countries/South Africa Top 40 Historical Data.csv'\n",
    "fill_entire_data_from_csv(df, 'South Africa', south_africa_csv)"
   ]
  },
  {
   "cell_type": "code",
   "execution_count": 438,
   "metadata": {},
   "outputs": [
    {
     "name": "stdout",
     "output_type": "stream",
     "text": [
      "Poland Starting from 1999-01-04 00:00:00\n"
     ]
    }
   ],
   "source": [
    "# https://www.investing.com/indices/wig-20-historical-data\n",
    "\n",
    "poland_csv = 'indices_selected_countries/WIG20 Historical Data.csv'\n",
    "fill_entire_data_from_csv(df, 'Poland', poland_csv)"
   ]
  },
  {
   "cell_type": "code",
   "execution_count": 439,
   "metadata": {},
   "outputs": [
    {
     "name": "stdout",
     "output_type": "stream",
     "text": [
      "Chile Starting from 1999-01-04 00:00:00\n"
     ]
    }
   ],
   "source": [
    "# https://www.investing.com/indices/ipsa-historical-data\n",
    "\n",
    "chile_csv = 'indices_selected_countries/S&P CLX IPSA Historical Data.csv'\n",
    "fill_entire_data_from_csv(df, 'Chile', chile_csv)"
   ]
  },
  {
   "cell_type": "code",
   "execution_count": 440,
   "metadata": {},
   "outputs": [
    {
     "name": "stdout",
     "output_type": "stream",
     "text": [
      "Hungary Starting from 2001-08-13 00:00:00\n"
     ]
    }
   ],
   "source": [
    "# https://www.investing.com/indices/ftse-hungary-historical-data\n",
    "\n",
    "hungary_csv = 'indices_selected_countries/FTSE Hungary Historical Data.csv'\n",
    "fill_entire_data_from_csv(df, 'Hungary', hungary_csv)"
   ]
  },
  {
   "cell_type": "code",
   "execution_count": 441,
   "metadata": {},
   "outputs": [
    {
     "name": "stdout",
     "output_type": "stream",
     "text": [
      "Czechia Starting from 1999-01-04 00:00:00\n"
     ]
    }
   ],
   "source": [
    "# https://www.investing.com/indices/px-historical-data\n",
    "\n",
    "czechia_csv = 'indices_selected_countries/Czechia_PX Historical Data.csv'\n",
    "fill_entire_data_from_csv(df, 'Czechia', czechia_csv)"
   ]
  },
  {
   "cell_type": "code",
   "execution_count": 442,
   "metadata": {},
   "outputs": [
    {
     "name": "stdout",
     "output_type": "stream",
     "text": [
      "Colombia Starting from 2000-07-03 00:00:00\n"
     ]
    }
   ],
   "source": [
    "#https://www.investing.com/indices/ftse-colombia-historical-data\n",
    "\n",
    "colombia_csv = 'indices_selected_countries/FTSE Colombia Historical Data.csv'\n",
    "fill_entire_data_from_csv(df, 'Colombia', colombia_csv)"
   ]
  },
  {
   "cell_type": "code",
   "execution_count": 443,
   "metadata": {},
   "outputs": [
    {
     "name": "stdout",
     "output_type": "stream",
     "text": [
      "Russia Starting from 1999-01-05 00:00:00\n"
     ]
    }
   ],
   "source": [
    "russia_csv = 'indices_selected_countries/MOEX Russia Historical Data.csv'\n",
    "fill_missing_data_from_csv(df, 'Russia', russia_csv)"
   ]
  },
  {
   "cell_type": "code",
   "execution_count": 444,
   "metadata": {},
   "outputs": [
    {
     "name": "stdout",
     "output_type": "stream",
     "text": [
      "Denmark 2001-02-12 00:00:00\n",
      "Finland 2001-03-09 00:00:00\n",
      "Norway 1999-09-08 00:00:00\n",
      "New Zealand 2001-01-03 00:00:00\n",
      "Portugal 2010-05-25 00:00:00\n",
      "Eurozona 2007-03-30 00:00:00\n",
      "Hungary 2001-08-13 00:00:00\n",
      "Colombia 2000-07-03 00:00:00\n"
     ]
    }
   ],
   "source": [
    "for country in stock_indexes:\n",
    "    first_valid = df[country].first_valid_index()\n",
    "    if not str(first_valid).startswith('1999-01-04') and not str(first_valid).startswith('1999-01-05'):\n",
    "        print(country, first_valid)"
   ]
  },
  {
   "cell_type": "code",
   "execution_count": 445,
   "metadata": {},
   "outputs": [
    {
     "data": {
      "text/plain": [
       "United States      229\n",
       "Japan              391\n",
       "United Kingdom     206\n",
       "Canada             238\n",
       "France             130\n",
       "Switzerland        237\n",
       "Germany            171\n",
       "Australia          203\n",
       "Netherlands        127\n",
       "Denmark            796\n",
       "Sweden             242\n",
       "Spain              166\n",
       "Hong Kong          355\n",
       "Italy              131\n",
       "Singapore          263\n",
       "Finland            810\n",
       "Belgium            135\n",
       "Norway             411\n",
       "Israel            1505\n",
       "Ireland            195\n",
       "New Zealand        842\n",
       "Austria            310\n",
       "Portugal          3044\n",
       "Eurozona          2316\n",
       "China              466\n",
       "Taiwan             383\n",
       "India              353\n",
       "Korea              347\n",
       "Brazil             329\n",
       "Saudi Arabia      1433\n",
       "South Africa       269\n",
       "Mexico             240\n",
       "Thailand           415\n",
       "Indonesia          433\n",
       "Malaysia           382\n",
       "Turkiye            278\n",
       "Philippines        301\n",
       "Poland             258\n",
       "Chile              286\n",
       "Greece             318\n",
       "Hungary            714\n",
       "Czechia            246\n",
       "Colombia           429\n",
       "Argentina          404\n",
       "Russia             351\n",
       "dtype: int64"
      ]
     },
     "execution_count": 445,
     "metadata": {},
     "output_type": "execute_result"
    }
   ],
   "source": [
    "df.isna().sum()"
   ]
  },
  {
   "cell_type": "code",
   "execution_count": 446,
   "metadata": {},
   "outputs": [],
   "source": [
    "df_filled = df.dropna(thresh=0.5)\n",
    "df_filled = df_filled.ffill()\n",
    "df_filled = df_filled.bfill(limit=1)"
   ]
  },
  {
   "cell_type": "code",
   "execution_count": 447,
   "metadata": {},
   "outputs": [],
   "source": [
    "df_filled.to_csv('market_data/stock_indices.csv')"
   ]
  }
 ],
 "metadata": {
  "kernelspec": {
   "display_name": "base",
   "language": "python",
   "name": "python3"
  },
  "language_info": {
   "codemirror_mode": {
    "name": "ipython",
    "version": 3
   },
   "file_extension": ".py",
   "mimetype": "text/x-python",
   "name": "python",
   "nbconvert_exporter": "python",
   "pygments_lexer": "ipython3",
   "version": "3.11.5"
  },
  "orig_nbformat": 4
 },
 "nbformat": 4,
 "nbformat_minor": 2
}
