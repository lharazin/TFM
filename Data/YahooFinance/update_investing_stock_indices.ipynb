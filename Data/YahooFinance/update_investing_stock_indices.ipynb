{
 "cells": [
  {
   "cell_type": "code",
   "execution_count": 2,
   "metadata": {},
   "outputs": [
    {
     "data": {
      "text/plain": [
       "True"
      ]
     },
     "execution_count": 2,
     "metadata": {},
     "output_type": "execute_result"
    }
   ],
   "source": [
    "import pandas as pd\n",
    "from datetime import date, timedelta\n",
    "\n",
    "from src.lambda_investing_indices_web_scrapping.SqlAlquemyInsertMarketDataHandler import SqlAlquemyInsertMarketDataHandler\n",
    "from src.lambda_investing_indices_web_scrapping.InvestingIndicesWebScrapper import InvestingIndicesWebScrapper\n",
    "from dotenv import load_dotenv\n",
    "load_dotenv()"
   ]
  },
  {
   "cell_type": "code",
   "execution_count": 3,
   "metadata": {},
   "outputs": [],
   "source": [
    "investing_pages = {\n",
    "    'OMXC20': 'omx-copenhagen-20-historical-data',\n",
    "    'OBX': 'oslo-obx-historical-data',\n",
    "    'JTOPI': 'ftse-jse-top-40-historical-data',\n",
    "    'WIG20': 'wig-20-historical-data',\n",
    "    'SPIPSA': 'ipsa-historical-data',\n",
    "    'FTWIHUNL': 'ftse-hungary-historical-data',\n",
    "    'PX': 'px-historical-data',\n",
    "    'FTWICOLL': 'ftse-colombia-historical-data'\n",
    "}"
   ]
  },
  {
   "cell_type": "code",
   "execution_count": 4,
   "metadata": {},
   "outputs": [
    {
     "name": "stdout",
     "output_type": "stream",
     "text": [
      "8 indicators read\n",
      "Reading WIG20 from 2023-12-21\n",
      "Reading JTOPI from 2023-12-21\n",
      "Reading OBX from 2023-12-21\n",
      "Reading SPIPSA from 2023-12-21\n",
      "Reading OMXC20 from 2023-12-26\n",
      "Reading FTWIHUNL from 2023-12-21\n"
     ]
    }
   ],
   "source": [
    "yesterday = date.today() - timedelta(days=1)\n",
    "sql_handler = SqlAlquemyInsertMarketDataHandler()\n",
    "web_scrapper = InvestingIndicesWebScrapper()\n",
    "indicators = sql_handler.read_max_dates_by_symbols(source='Investing')\n",
    "indicators_to_update = indicators[indicators.MaxDate != yesterday]\n",
    "\n",
    "for i in range(indicators_to_update.shape[0]):\n",
    "    symbol_code = indicators_to_update.iloc[i, 0]\n",
    "    max_date = indicators_to_update.iloc[i, 1]\n",
    "\n",
    "    start_date = max_date + timedelta(days=1)\n",
    "    start_date = str(start_date)\n",
    "    end_date = str(yesterday)\n",
    "    path = investing_pages[symbol_code]\n",
    "\n",
    "    print('Reading', symbol_code, 'from', start_date)\n",
    "    prices = web_scrapper.retrieve_prices_from_investing(path, linux=False)\n",
    "    if (len(prices) > 0):\n",
    "        values_to_save = pd.Series(\n",
    "            index=pd.date_range(start_date, end_date, freq='B'),\n",
    "            data=prices.round(2), name=symbol_code)\n",
    "        values_to_save = values_to_save.ffill()\n",
    "        values_to_save = values_to_save.bfill()\n",
    "        #sql_handler.save_to_db(symbol_code, values_to_save)"
   ]
  }
 ],
 "metadata": {
  "kernelspec": {
   "display_name": "venv",
   "language": "python",
   "name": "python3"
  },
  "language_info": {
   "codemirror_mode": {
    "name": "ipython",
    "version": 3
   },
   "file_extension": ".py",
   "mimetype": "text/x-python",
   "name": "python",
   "nbconvert_exporter": "python",
   "pygments_lexer": "ipython3",
   "version": "3.11.5"
  },
  "orig_nbformat": 4
 },
 "nbformat": 4,
 "nbformat_minor": 2
}
