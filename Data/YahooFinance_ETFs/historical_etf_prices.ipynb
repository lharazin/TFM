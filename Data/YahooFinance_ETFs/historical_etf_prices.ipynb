{
 "cells": [
  {
   "cell_type": "code",
   "execution_count": 3,
   "metadata": {},
   "outputs": [],
   "source": [
    "import yfinance as yf\n",
    "import pandas as pd"
   ]
  },
  {
   "cell_type": "code",
   "execution_count": 4,
   "metadata": {},
   "outputs": [],
   "source": [
    "etf_codes = {\n",
    "    'United States': 'SPY', # SPDR S&P 500 ETF Trust (SPY) \n",
    "    'Japan': 'EWJ', # iShares MSCI Japan ETF\n",
    "    'United Kingdom': 'EWU', # iShares MSCI United Kingdom ETF\n",
    "    'Canada': 'EWC', # iShares MSCI Canada ETF\n",
    "    'France': 'EWQ', # iShares MSCI France ETF\n",
    "    'Switzerland': 'EWL', # iShares MSCI Switzerland ETF\n",
    "    'Germany': 'EWG', # iShares MSCI Germany ETF\n",
    "    'Australia': 'EWA', # iShares MSCI Australia ETF\n",
    "    'Netherlands': '',\n",
    "    'Denmark': '',\n",
    "    'Sweden': '',\n",
    "    'Spain': '',\n",
    "    'Hong Kong': '',\n",
    "    'Italy': '',\n",
    "    'Singapore': '',\n",
    "    'Finland': '',\n",
    "    'Belgium': '',\n",
    "    'Norway': '',\n",
    "    'Israel': '',\n",
    "    'Ireland': '',\n",
    "    'New Zealand': '',\n",
    "    'Austria': '',\n",
    "    'Portugal': '',\n",
    "    'Eurozona': '',\n",
    "\n",
    "    'China': '',\n",
    "    'Taiwan': '',\n",
    "    'India': '',\n",
    "    'Korea': '',\n",
    "    'Brazil': '',\n",
    "    'Saudi Arabia': '',\n",
    "    'South Africa': '',\n",
    "    'Mexico': '',\n",
    "    'Thailand': '',\n",
    "    'Indonesia': '',\n",
    "    'Malaysia': '',\n",
    "    'United Arab Emirates': '',\n",
    "    'Qatar': '',\n",
    "    'Kuwait': '',\n",
    "    'Turkiye': '',\n",
    "    'Philippines': '',\n",
    "    'Poland': '',\n",
    "    'Chile': '',\n",
    "    'Greece': '',\n",
    "    'Peru': '',\n",
    "    'Hungary': '',\n",
    "    'Czechia': '',\n",
    "    'Egypt': '',\n",
    "    'Colombia': '',\n",
    "    'Argentina': '',\n",
    "    'Russia': '',\n",
    "}"
   ]
  },
  {
   "cell_type": "code",
   "execution_count": 58,
   "metadata": {},
   "outputs": [
    {
     "name": "stdout",
     "output_type": "stream",
     "text": [
      "[*********************100%%**********************]  1 of 1 completed\n"
     ]
    },
    {
     "data": {
      "text/html": [
       "<div>\n",
       "<style scoped>\n",
       "    .dataframe tbody tr th:only-of-type {\n",
       "        vertical-align: middle;\n",
       "    }\n",
       "\n",
       "    .dataframe tbody tr th {\n",
       "        vertical-align: top;\n",
       "    }\n",
       "\n",
       "    .dataframe thead th {\n",
       "        text-align: right;\n",
       "    }\n",
       "</style>\n",
       "<table border=\"1\" class=\"dataframe\">\n",
       "  <thead>\n",
       "    <tr style=\"text-align: right;\">\n",
       "      <th></th>\n",
       "      <th>Open</th>\n",
       "      <th>High</th>\n",
       "      <th>Low</th>\n",
       "      <th>Close</th>\n",
       "      <th>Adj Close</th>\n",
       "      <th>Volume</th>\n",
       "    </tr>\n",
       "    <tr>\n",
       "      <th>Date</th>\n",
       "      <th></th>\n",
       "      <th></th>\n",
       "      <th></th>\n",
       "      <th></th>\n",
       "      <th></th>\n",
       "      <th></th>\n",
       "    </tr>\n",
       "  </thead>\n",
       "  <tbody>\n",
       "    <tr>\n",
       "      <th>2022-08-22</th>\n",
       "      <td>0.0</td>\n",
       "      <td>0.0</td>\n",
       "      <td>0.0</td>\n",
       "      <td>451992.53125</td>\n",
       "      <td>451992.53125</td>\n",
       "      <td>0</td>\n",
       "    </tr>\n",
       "  </tbody>\n",
       "</table>\n",
       "</div>"
      ],
      "text/plain": [
       "            Open  High  Low         Close     Adj Close  Volume\n",
       "Date                                                           \n",
       "2022-08-22   0.0   0.0  0.0  451992.53125  451992.53125       0"
      ]
     },
     "execution_count": 58,
     "metadata": {},
     "output_type": "execute_result"
    }
   ],
   "source": [
    "df = yf.download('^ICOL-EU', '1999-1-1')\n",
    "df"
   ]
  }
 ],
 "metadata": {
  "kernelspec": {
   "display_name": "venv",
   "language": "python",
   "name": "python3"
  },
  "language_info": {
   "codemirror_mode": {
    "name": "ipython",
    "version": 3
   },
   "file_extension": ".py",
   "mimetype": "text/x-python",
   "name": "python",
   "nbconvert_exporter": "python",
   "pygments_lexer": "ipython3",
   "version": "3.11.5"
  },
  "orig_nbformat": 4
 },
 "nbformat": 4,
 "nbformat_minor": 2
}
