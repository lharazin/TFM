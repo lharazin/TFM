{
 "cells": [
  {
   "cell_type": "code",
   "execution_count": 64,
   "metadata": {},
   "outputs": [],
   "source": [
    "import pandas as pd\n",
    "import requests"
   ]
  },
  {
   "cell_type": "code",
   "execution_count": 65,
   "metadata": {},
   "outputs": [
    {
     "data": {
      "text/plain": [
       "date\n",
       "1999-01-01    73.830237\n",
       "1999-02-01    74.676699\n",
       "1999-03-01    75.335058\n",
       "1999-04-01    75.993416\n",
       "1999-05-01    77.780390\n",
       "                ...    \n",
       "2021-06-01    85.586645\n",
       "2021-07-01    86.150952\n",
       "2021-08-01    86.621209\n",
       "2021-09-01    86.715260\n",
       "2021-10-01    86.527157\n",
       "Name: value, Length: 267, dtype: float64"
      ]
     },
     "execution_count": 65,
     "metadata": {},
     "output_type": "execute_result"
    }
   ],
   "source": [
    "# From tutorial: http://www.bd-econ.com/imfapi1.html\n",
    "\n",
    "url = 'http://dataservices.imf.org/REST/SDMX_JSON.svc/'\n",
    "key = 'CompactData/IFS/M.JP.PMP_IX.?startPeriod=1999' # adjust codes here\n",
    "\n",
    "# Navigate to series in API-returned JSON data\n",
    "data = (requests.get(f'{url}{key}').json()\n",
    "        ['CompactData']['DataSet']['Series'])\n",
    "\n",
    "baseyr = data['@BASE_YEAR']  # Save the base year\n",
    "\n",
    "# Create pandas dataframe from the observations\n",
    "data_list = [[obs.get('@TIME_PERIOD'), obs.get('@OBS_VALUE')]\n",
    "             for obs in data['Obs']]\n",
    "\n",
    "df = pd.DataFrame(data_list, columns=['date', 'value'])\n",
    "     \n",
    "df = df.set_index(pd.to_datetime(df['date']))['value'].astype('float')\n",
    "df"
   ]
  },
  {
   "cell_type": "code",
   "execution_count": 66,
   "metadata": {},
   "outputs": [
    {
     "name": "stdout",
     "output_type": "stream",
     "text": [
      "Direction of Trade Statistics (DOTS), 2020 Q1: DOT_2020Q1\n",
      "Direction of Trade Statistics (DOTS), 2018 Q3: DOT_2018Q3\n",
      "Direction of Trade Statistics (DOTS), 2018 Q2: DOT_2018Q2\n",
      "Direction of Trade Statistics (DOTS), 2019 Q1: DOT_2019Q1\n",
      "Direction of Trade Statistics (DOTS), 2017 Q2: DOT_2017Q2\n",
      "Direction of Trade Statistics (DOTS), 2018 Q1: DOT_2018Q1\n",
      "Direction of Trade Statistics (DOTS), 2019 Q4: DOT_2019Q4\n",
      "Direction of Trade Statistics (DOTS), 2017 Q4: DOT_2017Q4\n",
      "Direction of Trade Statistics (DOTS), 2019 Q2: DOT_2019Q2\n",
      "Direction of Trade Statistics (DOTS), 2020 Q2: DOT_2020Q2\n",
      "Direction of Trade Statistics (DOTS), 2018 Q4: DOT_2018Q4\n",
      "Direction of Trade Statistics (DOTS), 2019 Q3: DOT_2019Q3\n",
      "Direction of Trade Statistics (DOTS), 2017 Q3: DOT_2017Q3\n",
      "Direction of Trade Statistics (DOTS), 2017 Q1: DOT_2017Q1\n",
      "Direction of Trade Statistics (DOTS), 2020 Q4: DOT_2020Q4\n",
      "Direction of Trade Statistics (DOTS), 2020 Q3: DOT_2020Q3\n",
      "Direction of Trade Statistics (DOTS), 2021 Q1: DOT_2021Q1\n",
      "Direction of Trade Statistics (DOTS), 2022 Q3: DOT_2022Q3\n",
      "Direction of Trade Statistics (DOTS), 2023 Q1: DOT_2023Q1\n",
      "Direction of Trade Statistics (DOTS), 2022 Q2: DOT_2022Q2\n",
      "Direction of Trade Statistics (DOTS), 2022 Q1: DOT_2022Q1\n",
      "Direction of Trade Statistics (DOTS), 2021 Q4: DOT_2021Q4\n",
      "Direction of Trade Statistics (DOTS), 2022 Q4: DOT_2022Q4\n",
      "Direction of Trade Statistics (DOTS), 2021 Q2: DOT_2021Q2\n",
      "Direction of Trade Statistics (DOTS), 2021 Q3: DOT_2021Q3\n",
      "Direction of Trade Statistics (DOTS): DOT\n",
      "Commodity Terms of Trade: PCTOT\n"
     ]
    }
   ],
   "source": [
    "url = 'http://dataservices.imf.org/REST/SDMX_JSON.svc/'\n",
    "key = 'Dataflow'  # Method with series information\n",
    "search_term = 'Trade'  # Term to find in series names\n",
    "series_list = requests.get(f'{url}{key}').json()\\\n",
    "            ['Structure']['Dataflows']['Dataflow']\n",
    "\n",
    "# Use dict keys to navigate through results:\n",
    "for series in series_list:\n",
    "    if search_term in series['Name']['#text']:\n",
    "        print(f\"{series['Name']['#text']}: {series['KeyFamilyRef']['KeyFamilyID']}\")"
   ]
  },
  {
   "cell_type": "code",
   "execution_count": 67,
   "metadata": {},
   "outputs": [
    {
     "name": "stdout",
     "output_type": "stream",
     "text": [
      "Dimension 1: CL_FREQ\n",
      "Dimension 2: CL_AREA_DOT\n",
      "Dimension 3: CL_INDICATOR_DOT\n",
      "Dimension 4: CL_COUNTERPART_AREA_DOT\n"
     ]
    }
   ],
   "source": [
    "key = 'DataStructure/DOT'  # Method / series\n",
    "dimension_list = requests.get(f'{url}{key}').json()['Structure']['KeyFamilies']['KeyFamily']['Components']['Dimension']\n",
    "for n, dimension in enumerate(dimension_list):\n",
    "    print(f'Dimension {n+1}: {dimension[\"@codelist\"]}')"
   ]
  },
  {
   "cell_type": "code",
   "execution_count": 68,
   "metadata": {},
   "outputs": [
    {
     "name": "stdout",
     "output_type": "stream",
     "text": [
      "Goods, Value of Exports, Free on board (FOB), US Dollars: TXG_FOB_USD\n",
      "Goods, Value of Imports, Cost, Insurance, Freight (CIF), US Dollars: TMG_CIF_USD\n",
      "Goods, Value of Imports, Free on board (FOB), US Dollars: TMG_FOB_USD\n",
      "Goods, Value of Trade Balance, US Dollars: TBG_USD\n"
     ]
    }
   ],
   "source": [
    "# Example: codes for third dimension, which is 2 in python\n",
    "key = f\"CodeList/{dimension_list[2]['@codelist']}\"\n",
    "code_list = requests.get(f'{url}{key}').json()\\\n",
    "\t    ['Structure']['CodeLists']['CodeList']['Code']\n",
    "for code in code_list:\n",
    "    print(f\"{code['Description']['#text']}: {code['@value']}\")"
   ]
  },
  {
   "cell_type": "markdown",
   "metadata": {},
   "source": [
    "## CSV import\n",
    "\n",
    "Buld download from: https://data.imf.org/?sk=388dfa60-1d26-4ade-b505-a05a558d9a42&sid=1479329334655"
   ]
  },
  {
   "cell_type": "code",
   "execution_count": 69,
   "metadata": {},
   "outputs": [
    {
     "data": {
      "text/html": [
       "<div>\n",
       "<style scoped>\n",
       "    .dataframe tbody tr th:only-of-type {\n",
       "        vertical-align: middle;\n",
       "    }\n",
       "\n",
       "    .dataframe tbody tr th {\n",
       "        vertical-align: top;\n",
       "    }\n",
       "\n",
       "    .dataframe thead th {\n",
       "        text-align: right;\n",
       "    }\n",
       "</style>\n",
       "<table border=\"1\" class=\"dataframe\">\n",
       "  <thead>\n",
       "    <tr style=\"text-align: right;\">\n",
       "      <th></th>\n",
       "      <th>Country Name</th>\n",
       "      <th>Country Code</th>\n",
       "      <th>Indicator Name</th>\n",
       "      <th>Indicator Code</th>\n",
       "      <th>Attribute</th>\n",
       "      <th>1971</th>\n",
       "      <th>1972</th>\n",
       "      <th>1973</th>\n",
       "      <th>1974</th>\n",
       "      <th>1975</th>\n",
       "      <th>...</th>\n",
       "      <th>2020Q1</th>\n",
       "      <th>2020Q2</th>\n",
       "      <th>2020Q3</th>\n",
       "      <th>2020Q4</th>\n",
       "      <th>2021</th>\n",
       "      <th>2021Q1</th>\n",
       "      <th>2021Q2</th>\n",
       "      <th>2021Q3</th>\n",
       "      <th>2021Q4</th>\n",
       "      <th>2022Q1</th>\n",
       "    </tr>\n",
       "  </thead>\n",
       "  <tbody>\n",
       "    <tr>\n",
       "      <th>472</th>\n",
       "      <td>Argentina</td>\n",
       "      <td>213</td>\n",
       "      <td>Unemployment, Persons, Percentage change, corr...</td>\n",
       "      <td>LU_PE_PC_CP_A_PT</td>\n",
       "      <td>Value</td>\n",
       "      <td>24.367089</td>\n",
       "      <td>12.722646</td>\n",
       "      <td>-21.896163</td>\n",
       "      <td>-29.942197</td>\n",
       "      <td>-20.60231</td>\n",
       "      <td>...</td>\n",
       "      <td>NaN</td>\n",
       "      <td>NaN</td>\n",
       "      <td>NaN</td>\n",
       "      <td>NaN</td>\n",
       "      <td>-17.225271</td>\n",
       "      <td>NaN</td>\n",
       "      <td>NaN</td>\n",
       "      <td>NaN</td>\n",
       "      <td>NaN</td>\n",
       "      <td>NaN</td>\n",
       "    </tr>\n",
       "    <tr>\n",
       "      <th>473</th>\n",
       "      <td>Argentina</td>\n",
       "      <td>213</td>\n",
       "      <td>Unemployment, Persons, Percentage change, corr...</td>\n",
       "      <td>LU_PE_PC_CP_A_PT</td>\n",
       "      <td>Value</td>\n",
       "      <td>NaN</td>\n",
       "      <td>NaN</td>\n",
       "      <td>NaN</td>\n",
       "      <td>NaN</td>\n",
       "      <td>NaN</td>\n",
       "      <td>...</td>\n",
       "      <td>4.161009</td>\n",
       "      <td>-0.065668</td>\n",
       "      <td>9.914268</td>\n",
       "      <td>18.59242</td>\n",
       "      <td>NaN</td>\n",
       "      <td>-2.795324</td>\n",
       "      <td>-11.42211</td>\n",
       "      <td>-21.30339</td>\n",
       "      <td>-33.221123</td>\n",
       "      <td>-30.507716</td>\n",
       "    </tr>\n",
       "  </tbody>\n",
       "</table>\n",
       "<p>2 rows × 114 columns</p>\n",
       "</div>"
      ],
      "text/plain": [
       "    Country Name  Country Code  \\\n",
       "472    Argentina           213   \n",
       "473    Argentina           213   \n",
       "\n",
       "                                        Indicator Name    Indicator Code  \\\n",
       "472  Unemployment, Persons, Percentage change, corr...  LU_PE_PC_CP_A_PT   \n",
       "473  Unemployment, Persons, Percentage change, corr...  LU_PE_PC_CP_A_PT   \n",
       "\n",
       "    Attribute       1971       1972       1973       1974      1975  ...  \\\n",
       "472     Value  24.367089  12.722646 -21.896163 -29.942197 -20.60231  ...   \n",
       "473     Value        NaN        NaN        NaN        NaN       NaN  ...   \n",
       "\n",
       "       2020Q1    2020Q2    2020Q3    2020Q4       2021    2021Q1    2021Q2  \\\n",
       "472       NaN       NaN       NaN       NaN -17.225271       NaN       NaN   \n",
       "473  4.161009 -0.065668  9.914268  18.59242        NaN -2.795324 -11.42211   \n",
       "\n",
       "       2021Q3     2021Q4     2022Q1  \n",
       "472       NaN        NaN        NaN  \n",
       "473 -21.30339 -33.221123 -30.507716  \n",
       "\n",
       "[2 rows x 114 columns]"
      ]
     },
     "execution_count": 69,
     "metadata": {},
     "output_type": "execute_result"
    }
   ],
   "source": [
    "unemployment = pd.read_csv('RawData/IFS_09-23-2023 15-20-12-31_timeSeries.csv')\n",
    "unemployment[(unemployment['Country Name'] == 'Argentina') & (unemployment['Indicator Code'] == 'LU_PE_PC_CP_A_PT')].dropna(axis=1, thresh=1)"
   ]
  }
 ],
 "metadata": {
  "kernelspec": {
   "display_name": "venv",
   "language": "python",
   "name": "python3"
  },
  "language_info": {
   "codemirror_mode": {
    "name": "ipython",
    "version": 3
   },
   "file_extension": ".py",
   "mimetype": "text/x-python",
   "name": "python",
   "nbconvert_exporter": "python",
   "pygments_lexer": "ipython3",
   "version": "3.11.5"
  },
  "orig_nbformat": 4
 },
 "nbformat": 4,
 "nbformat_minor": 2
}
