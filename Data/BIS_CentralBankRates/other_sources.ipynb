{
 "cells": [
  {
   "cell_type": "markdown",
   "metadata": {},
   "source": [
    "# Other sources\n",
    "\n",
    "Exploring other sources for central bank rates. In the end not used in the investment algorithm."
   ]
  },
  {
   "cell_type": "code",
   "execution_count": 2,
   "metadata": {},
   "outputs": [],
   "source": [
    "import pandas as pd"
   ]
  },
  {
   "cell_type": "markdown",
   "metadata": {},
   "source": [
    "US FED - https://fred.stlouisfed.org/series/RIFSPFFNB"
   ]
  },
  {
   "cell_type": "code",
   "execution_count": 3,
   "metadata": {},
   "outputs": [
    {
     "data": {
      "text/html": [
       "<div>\n",
       "<style scoped>\n",
       "    .dataframe tbody tr th:only-of-type {\n",
       "        vertical-align: middle;\n",
       "    }\n",
       "\n",
       "    .dataframe tbody tr th {\n",
       "        vertical-align: top;\n",
       "    }\n",
       "\n",
       "    .dataframe thead th {\n",
       "        text-align: right;\n",
       "    }\n",
       "</style>\n",
       "<table border=\"1\" class=\"dataframe\">\n",
       "  <thead>\n",
       "    <tr style=\"text-align: right;\">\n",
       "      <th></th>\n",
       "      <th>RIFSPFFNB</th>\n",
       "    </tr>\n",
       "    <tr>\n",
       "      <th>DATE</th>\n",
       "      <th></th>\n",
       "    </tr>\n",
       "  </thead>\n",
       "  <tbody>\n",
       "    <tr>\n",
       "      <th>1999-01-04</th>\n",
       "      <td>5.04</td>\n",
       "    </tr>\n",
       "    <tr>\n",
       "      <th>1999-01-05</th>\n",
       "      <td>4.54</td>\n",
       "    </tr>\n",
       "    <tr>\n",
       "      <th>1999-01-06</th>\n",
       "      <td>4.23</td>\n",
       "    </tr>\n",
       "    <tr>\n",
       "      <th>1999-01-07</th>\n",
       "      <td>4.49</td>\n",
       "    </tr>\n",
       "    <tr>\n",
       "      <th>1999-01-08</th>\n",
       "      <td>4.74</td>\n",
       "    </tr>\n",
       "    <tr>\n",
       "      <th>...</th>\n",
       "      <td>...</td>\n",
       "    </tr>\n",
       "    <tr>\n",
       "      <th>2023-07-19</th>\n",
       "      <td>5.08</td>\n",
       "    </tr>\n",
       "    <tr>\n",
       "      <th>2023-07-20</th>\n",
       "      <td>5.08</td>\n",
       "    </tr>\n",
       "    <tr>\n",
       "      <th>2023-07-21</th>\n",
       "      <td>5.08</td>\n",
       "    </tr>\n",
       "    <tr>\n",
       "      <th>2023-07-24</th>\n",
       "      <td>5.08</td>\n",
       "    </tr>\n",
       "    <tr>\n",
       "      <th>2023-07-25</th>\n",
       "      <td>5.08</td>\n",
       "    </tr>\n",
       "  </tbody>\n",
       "</table>\n",
       "<p>6407 rows × 1 columns</p>\n",
       "</div>"
      ],
      "text/plain": [
       "           RIFSPFFNB\n",
       "DATE                \n",
       "1999-01-04      5.04\n",
       "1999-01-05      4.54\n",
       "1999-01-06      4.23\n",
       "1999-01-07      4.49\n",
       "1999-01-08      4.74\n",
       "...              ...\n",
       "2023-07-19      5.08\n",
       "2023-07-20      5.08\n",
       "2023-07-21      5.08\n",
       "2023-07-24      5.08\n",
       "2023-07-25      5.08\n",
       "\n",
       "[6407 rows x 1 columns]"
      ]
     },
     "execution_count": 3,
     "metadata": {},
     "output_type": "execute_result"
    }
   ],
   "source": [
    "us_rates = pd.read_csv('RawData/US_FederalFundsEffectiveRates.csv',\n",
    "                       parse_dates=True, index_col=0)\n",
    "us_rates"
   ]
  },
  {
   "cell_type": "markdown",
   "metadata": {},
   "source": [
    "EBC - https://data.ecb.europa.eu/main-figures/ecb-interest-rates-and-exchange-rates/key-ecb-interest-rates"
   ]
  },
  {
   "cell_type": "code",
   "execution_count": 4,
   "metadata": {},
   "outputs": [
    {
     "data": {
      "text/html": [
       "<div>\n",
       "<style scoped>\n",
       "    .dataframe tbody tr th:only-of-type {\n",
       "        vertical-align: middle;\n",
       "    }\n",
       "\n",
       "    .dataframe tbody tr th {\n",
       "        vertical-align: top;\n",
       "    }\n",
       "\n",
       "    .dataframe thead th {\n",
       "        text-align: right;\n",
       "    }\n",
       "</style>\n",
       "<table border=\"1\" class=\"dataframe\">\n",
       "  <thead>\n",
       "    <tr style=\"text-align: right;\">\n",
       "      <th></th>\n",
       "      <th>TIME PERIOD</th>\n",
       "      <th>ECB Deposit facility - date of changes (raw data) - Level (FM.D.U2.EUR.4F.KR.DFR.LEV)</th>\n",
       "      <th>ECB Marginal lending facility - date of changes (raw data) - Level (FM.D.U2.EUR.4F.KR.MLFR.LEV)</th>\n",
       "      <th>ECB Main refinancing operations - Minimum bid rate/fixed rate (date of changes) - Level (FM.D.U2.EUR.4F.KR.MRR_RT.LEV)</th>\n",
       "    </tr>\n",
       "    <tr>\n",
       "      <th>DATE</th>\n",
       "      <th></th>\n",
       "      <th></th>\n",
       "      <th></th>\n",
       "      <th></th>\n",
       "    </tr>\n",
       "  </thead>\n",
       "  <tbody>\n",
       "    <tr>\n",
       "      <th>1999-01-01</th>\n",
       "      <td>01 Jan 1999</td>\n",
       "      <td>2.00</td>\n",
       "      <td>4.50</td>\n",
       "      <td>3.00</td>\n",
       "    </tr>\n",
       "    <tr>\n",
       "      <th>1999-01-02</th>\n",
       "      <td>02 Jan 1999</td>\n",
       "      <td>2.00</td>\n",
       "      <td>4.50</td>\n",
       "      <td>3.00</td>\n",
       "    </tr>\n",
       "    <tr>\n",
       "      <th>1999-01-03</th>\n",
       "      <td>03 Jan 1999</td>\n",
       "      <td>2.00</td>\n",
       "      <td>4.50</td>\n",
       "      <td>3.00</td>\n",
       "    </tr>\n",
       "    <tr>\n",
       "      <th>1999-01-04</th>\n",
       "      <td>04 Jan 1999</td>\n",
       "      <td>2.75</td>\n",
       "      <td>3.25</td>\n",
       "      <td>3.00</td>\n",
       "    </tr>\n",
       "    <tr>\n",
       "      <th>1999-01-05</th>\n",
       "      <td>05 Jan 1999</td>\n",
       "      <td>2.75</td>\n",
       "      <td>3.25</td>\n",
       "      <td>3.00</td>\n",
       "    </tr>\n",
       "    <tr>\n",
       "      <th>...</th>\n",
       "      <td>...</td>\n",
       "      <td>...</td>\n",
       "      <td>...</td>\n",
       "      <td>...</td>\n",
       "    </tr>\n",
       "    <tr>\n",
       "      <th>2023-07-29</th>\n",
       "      <td>29 Jul 2023</td>\n",
       "      <td>3.50</td>\n",
       "      <td>4.25</td>\n",
       "      <td>4.00</td>\n",
       "    </tr>\n",
       "    <tr>\n",
       "      <th>2023-07-30</th>\n",
       "      <td>30 Jul 2023</td>\n",
       "      <td>3.50</td>\n",
       "      <td>4.25</td>\n",
       "      <td>4.00</td>\n",
       "    </tr>\n",
       "    <tr>\n",
       "      <th>2023-07-31</th>\n",
       "      <td>31 Jul 2023</td>\n",
       "      <td>3.50</td>\n",
       "      <td>4.25</td>\n",
       "      <td>4.00</td>\n",
       "    </tr>\n",
       "    <tr>\n",
       "      <th>2023-08-01</th>\n",
       "      <td>01 Aug 2023</td>\n",
       "      <td>3.50</td>\n",
       "      <td>4.25</td>\n",
       "      <td>4.00</td>\n",
       "    </tr>\n",
       "    <tr>\n",
       "      <th>2023-08-02</th>\n",
       "      <td>02 Aug 2023</td>\n",
       "      <td>3.75</td>\n",
       "      <td>4.50</td>\n",
       "      <td>4.25</td>\n",
       "    </tr>\n",
       "  </tbody>\n",
       "</table>\n",
       "<p>8980 rows × 4 columns</p>\n",
       "</div>"
      ],
      "text/plain": [
       "            TIME PERIOD  \\\n",
       "DATE                      \n",
       "1999-01-01  01 Jan 1999   \n",
       "1999-01-02  02 Jan 1999   \n",
       "1999-01-03  03 Jan 1999   \n",
       "1999-01-04  04 Jan 1999   \n",
       "1999-01-05  05 Jan 1999   \n",
       "...                 ...   \n",
       "2023-07-29  29 Jul 2023   \n",
       "2023-07-30  30 Jul 2023   \n",
       "2023-07-31  31 Jul 2023   \n",
       "2023-08-01  01 Aug 2023   \n",
       "2023-08-02  02 Aug 2023   \n",
       "\n",
       "            ECB Deposit facility - date of changes (raw data) - Level (FM.D.U2.EUR.4F.KR.DFR.LEV)  \\\n",
       "DATE                                                                                                \n",
       "1999-01-01                                               2.00                                       \n",
       "1999-01-02                                               2.00                                       \n",
       "1999-01-03                                               2.00                                       \n",
       "1999-01-04                                               2.75                                       \n",
       "1999-01-05                                               2.75                                       \n",
       "...                                                       ...                                       \n",
       "2023-07-29                                               3.50                                       \n",
       "2023-07-30                                               3.50                                       \n",
       "2023-07-31                                               3.50                                       \n",
       "2023-08-01                                               3.50                                       \n",
       "2023-08-02                                               3.75                                       \n",
       "\n",
       "            ECB Marginal lending facility - date of changes (raw data) - Level (FM.D.U2.EUR.4F.KR.MLFR.LEV)  \\\n",
       "DATE                                                                                                          \n",
       "1999-01-01                                               4.50                                                 \n",
       "1999-01-02                                               4.50                                                 \n",
       "1999-01-03                                               4.50                                                 \n",
       "1999-01-04                                               3.25                                                 \n",
       "1999-01-05                                               3.25                                                 \n",
       "...                                                       ...                                                 \n",
       "2023-07-29                                               4.25                                                 \n",
       "2023-07-30                                               4.25                                                 \n",
       "2023-07-31                                               4.25                                                 \n",
       "2023-08-01                                               4.25                                                 \n",
       "2023-08-02                                               4.50                                                 \n",
       "\n",
       "            ECB Main refinancing operations - Minimum bid rate/fixed rate (date of changes) - Level (FM.D.U2.EUR.4F.KR.MRR_RT.LEV)  \n",
       "DATE                                                                                                                                \n",
       "1999-01-01                                               3.00                                                                       \n",
       "1999-01-02                                               3.00                                                                       \n",
       "1999-01-03                                               3.00                                                                       \n",
       "1999-01-04                                               3.00                                                                       \n",
       "1999-01-05                                               3.00                                                                       \n",
       "...                                                       ...                                                                       \n",
       "2023-07-29                                               4.00                                                                       \n",
       "2023-07-30                                               4.00                                                                       \n",
       "2023-07-31                                               4.00                                                                       \n",
       "2023-08-01                                               4.00                                                                       \n",
       "2023-08-02                                               4.25                                                                       \n",
       "\n",
       "[8980 rows x 4 columns]"
      ]
     },
     "execution_count": 4,
     "metadata": {},
     "output_type": "execute_result"
    }
   ],
   "source": [
    "ebc_rates = pd.read_csv('RawData/ECB Data Portal_20230727161452.csv',\n",
    "                        parse_dates=True, index_col=0)\n",
    "ebc_rates"
   ]
  },
  {
   "cell_type": "markdown",
   "metadata": {},
   "source": [
    "Singapore Daily Interest Rates\n",
    "\n",
    "https://eservices.mas.gov.sg/Statistics/dir/DomesticInterestRates.aspx"
   ]
  },
  {
   "cell_type": "code",
   "execution_count": 5,
   "metadata": {},
   "outputs": [
    {
     "data": {
      "text/plain": [
       "Date\n",
       "1999-01-02    1.50\n",
       "1999-01-04    0.06\n",
       "1999-01-05    0.13\n",
       "1999-01-06    0.13\n",
       "1999-01-07    1.50\n",
       "              ... \n",
       "2005-07-26    1.81\n",
       "2005-07-27    1.81\n",
       "2005-07-28    1.81\n",
       "2005-07-29    1.81\n",
       "2005-07-30    1.81\n",
       "Name: Interbank Overnight, Length: 1984, dtype: float64"
      ]
     },
     "execution_count": 5,
     "metadata": {},
     "output_type": "execute_result"
    }
   ],
   "source": [
    "overnight = pd.read_csv('RawData/Singapore_overnight_rates_1999-2005.csv')\n",
    "overnight = overnight.ffill()\n",
    "overnight['Day'] = overnight['Day'].astype('int').astype('string')\n",
    "overnight['Date'] = overnight['Year'].astype('int').astype('string') + '-' + overnight['Month'] + '-' + overnight['Day']\n",
    "overnight.index = pd.to_datetime(overnight['Date'])\n",
    "overnight['Interbank Overnight']"
   ]
  },
  {
   "cell_type": "code",
   "execution_count": 6,
   "metadata": {},
   "outputs": [
    {
     "data": {
      "text/plain": [
       "SORA Publication Date\n",
       "2005-08-01    1.7712\n",
       "2005-08-02    1.7573\n",
       "2005-08-03    1.7507\n",
       "2005-08-04    1.7437\n",
       "2005-08-05    1.7704\n",
       "               ...  \n",
       "2023-07-24    3.7337\n",
       "2023-07-25    3.5374\n",
       "2023-07-26    3.4533\n",
       "2023-07-27    3.3329\n",
       "2023-07-28    3.4231\n",
       "Name: SORA, Length: 4515, dtype: float64"
      ]
     },
     "execution_count": 6,
     "metadata": {},
     "output_type": "execute_result"
    }
   ],
   "source": [
    "sora = pd.read_csv('RawData/Singapore_SORA_2005-2023.csv', parse_dates=True, index_col=3)\n",
    "sora['SORA']"
   ]
  },
  {
   "cell_type": "code",
   "execution_count": 7,
   "metadata": {},
   "outputs": [
    {
     "data": {
      "text/plain": [
       "1999-01-02    1.5000\n",
       "1999-01-04    0.0600\n",
       "1999-01-05    0.1300\n",
       "1999-01-06    0.1300\n",
       "1999-01-07    1.5000\n",
       "               ...  \n",
       "2023-07-24    3.7337\n",
       "2023-07-25    3.5374\n",
       "2023-07-26    3.4533\n",
       "2023-07-27    3.3329\n",
       "2023-07-28    3.4231\n",
       "Length: 6499, dtype: float64"
      ]
     },
     "execution_count": 7,
     "metadata": {},
     "output_type": "execute_result"
    }
   ],
   "source": [
    "singapore_rates = pd.concat([overnight['Interbank Overnight'], sora['SORA']])\n",
    "singapore_rates"
   ]
  }
 ],
 "metadata": {
  "kernelspec": {
   "display_name": "base",
   "language": "python",
   "name": "python3"
  },
  "language_info": {
   "codemirror_mode": {
    "name": "ipython",
    "version": 3
   },
   "file_extension": ".py",
   "mimetype": "text/x-python",
   "name": "python",
   "nbconvert_exporter": "python",
   "pygments_lexer": "ipython3",
   "version": "3.11.5"
  },
  "orig_nbformat": 4
 },
 "nbformat": 4,
 "nbformat_minor": 2
}
