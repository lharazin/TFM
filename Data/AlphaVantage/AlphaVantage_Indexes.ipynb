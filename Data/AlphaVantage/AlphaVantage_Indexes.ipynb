{
 "cells": [
  {
   "cell_type": "code",
   "execution_count": 2,
   "metadata": {},
   "outputs": [],
   "source": [
    "import pandas as pd\n",
    "import requests"
   ]
  },
  {
   "cell_type": "code",
   "execution_count": 3,
   "metadata": {},
   "outputs": [],
   "source": [
    "API_KEY = 'AT0XNCM3T2JINC32'"
   ]
  },
  {
   "cell_type": "code",
   "execution_count": 4,
   "metadata": {},
   "outputs": [
    {
     "name": "stdout",
     "output_type": "stream",
     "text": [
      "{'bestMatches': [{'1. symbol': 'PMI.LON', '2. name': 'Premier Miton Group plc', '3. type': 'Equity', '4. region': 'United Kingdom', '5. marketOpen': '08:00', '6. marketClose': '16:30', '7. timezone': 'UTC+01', '8. currency': 'GBX', '9. matchScore': '0.7500'}, {'1. symbol': 'PMIAX', '2. name': 'Putnam Multi Asset Income Fd USD Ser A', '3. type': 'Mutual Fund', '4. region': 'United States', '5. marketOpen': '09:30', '6. marketClose': '16:00', '7. timezone': 'UTC-04', '8. currency': 'USD', '9. matchScore': '0.7500'}, {'1. symbol': 'PMICX', '2. name': 'Putnam Multi Asset Income Fd USD Class C', '3. type': 'Mutual Fund', '4. region': 'United States', '5. marketOpen': '09:30', '6. marketClose': '16:00', '7. timezone': 'UTC-04', '8. currency': 'USD', '9. matchScore': '0.7500'}, {'1. symbol': 'PMIDX', '2. name': 'PAX MID CAP FUND INSTITUTIONAL CLASS', '3. type': 'Mutual Fund', '4. region': 'United States', '5. marketOpen': '09:30', '6. marketClose': '16:00', '7. timezone': 'UTC-04', '8. currency': 'USD', '9. matchScore': '0.7500'}, {'1. symbol': 'PMIEX', '2. name': 'FEDERATED HERMES INTERNATIONAL EQUITY FUND CLASS A SHARES', '3. type': 'Mutual Fund', '4. region': 'United States', '5. marketOpen': '09:30', '6. marketClose': '16:00', '7. timezone': 'UTC-04', '8. currency': 'USD', '9. matchScore': '0.7500'}, {'1. symbol': 'PMIFX', '2. name': 'Mutual Fund Series TrustAlphaCentric', '3. type': 'Mutual Fund', '4. region': 'United States', '5. marketOpen': '09:30', '6. marketClose': '16:00', '7. timezone': 'UTC-04', '8. currency': 'USD', '9. matchScore': '0.7500'}, {'1. symbol': 'PMIIX', '2. name': 'PAX SUSTAINABLE MANAGERS CAPITAL APPRECIATION FUND INSTITUTIONAL CLASS', '3. type': 'Mutual Fund', '4. region': 'United States', '5. marketOpen': '09:30', '6. marketClose': '16:00', '7. timezone': 'UTC-04', '8. currency': 'USD', '9. matchScore': '0.7500'}, {'1. symbol': 'PMILX', '2. name': 'Putnam Multi Asset Income Fd USD Class R5', '3. type': 'Mutual Fund', '4. region': 'United States', '5. marketOpen': '09:30', '6. marketClose': '16:00', '7. timezone': 'UTC-04', '8. currency': 'USD', '9. matchScore': '0.7500'}, {'1. symbol': 'PMIF.TRT', '2. name': 'PIMCO Monthly Income ETF', '3. type': 'ETF', '4. region': 'Toronto', '5. marketOpen': '09:30', '6. marketClose': '16:00', '7. timezone': 'UTC-05', '8. currency': 'CAD', '9. matchScore': '0.6000'}, {'1. symbol': 'PMIF-U.TRT', '2. name': 'PIMCO Monthly Income Fund (Canada)', '3. type': 'ETF', '4. region': 'Toronto', '5. marketOpen': '09:30', '6. marketClose': '16:00', '7. timezone': 'UTC-05', '8. currency': 'CAD', '9. matchScore': '0.5000'}]}\n",
      "\n",
      "PMI.LON Premier Miton Group plc United Kingdom\n",
      "PMIAX Putnam Multi Asset Income Fd USD Ser A United States\n",
      "PMICX Putnam Multi Asset Income Fd USD Class C United States\n",
      "PMIDX PAX MID CAP FUND INSTITUTIONAL CLASS United States\n",
      "PMIEX FEDERATED HERMES INTERNATIONAL EQUITY FUND CLASS A SHARES United States\n",
      "PMIFX Mutual Fund Series TrustAlphaCentric United States\n",
      "PMIIX PAX SUSTAINABLE MANAGERS CAPITAL APPRECIATION FUND INSTITUTIONAL CLASS United States\n",
      "PMILX Putnam Multi Asset Income Fd USD Class R5 United States\n",
      "PMIF.TRT PIMCO Monthly Income ETF Toronto\n",
      "PMIF-U.TRT PIMCO Monthly Income Fund (Canada) Toronto\n"
     ]
    }
   ],
   "source": [
    "url = f'https://www.alphavantage.co/query?function=SYMBOL_SEARCH&keywords=' + 'PMI' + '&apikey=' + API_KEY\n",
    "r = requests.get(url)\n",
    "data = r.json()\n",
    "\n",
    "print(data)\n",
    "print()\n",
    "for m in data['bestMatches']:\n",
    "    print(m['1. symbol'], m['2. name'], m['4. region'])"
   ]
  },
  {
   "cell_type": "code",
   "execution_count": null,
   "metadata": {},
   "outputs": [],
   "source": []
  }
 ],
 "metadata": {
  "kernelspec": {
   "display_name": "base",
   "language": "python",
   "name": "python3"
  },
  "language_info": {
   "codemirror_mode": {
    "name": "ipython",
    "version": 3
   },
   "file_extension": ".py",
   "mimetype": "text/x-python",
   "name": "python",
   "nbconvert_exporter": "python",
   "pygments_lexer": "ipython3",
   "version": "3.11.5"
  },
  "orig_nbformat": 4
 },
 "nbformat": 4,
 "nbformat_minor": 2
}
