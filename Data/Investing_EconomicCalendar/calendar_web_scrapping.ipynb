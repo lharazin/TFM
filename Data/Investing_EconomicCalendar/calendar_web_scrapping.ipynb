{
 "cells": [
  {
   "cell_type": "code",
   "execution_count": 2,
   "metadata": {},
   "outputs": [
    {
     "data": {
      "text/plain": [
       "True"
      ]
     },
     "execution_count": 2,
     "metadata": {},
     "output_type": "execute_result"
    }
   ],
   "source": [
    "from src.web_scrapping.InvestingWebScrapper import InvestingWebScrapper\n",
    "from src.web_scrapping.SqlAlquemyInsertHandler import SqlAlquemyInsertHandler\n",
    "\n",
    "from dotenv import load_dotenv\n",
    "load_dotenv()"
   ]
  },
  {
   "cell_type": "markdown",
   "metadata": {},
   "source": [
    "## Scrapping archive dates"
   ]
  },
  {
   "cell_type": "code",
   "execution_count": null,
   "metadata": {},
   "outputs": [],
   "source": [
    "sql_handler = SqlAlquemyInsertHandler()\n",
    "web_scrapper = InvestingWebScrapper()\n",
    "web_scrapper.open_economic_calendar()"
   ]
  },
  {
   "cell_type": "markdown",
   "metadata": {},
   "source": [
    "Select correct dates and execute the following"
   ]
  },
  {
   "cell_type": "code",
   "execution_count": null,
   "metadata": {},
   "outputs": [],
   "source": [
    "df = web_scrapper.read_all_indicators()\n",
    "print('Read', len(df), 'indicators from', \n",
    "      df.iloc[0, 0], 'to', df.iloc[-1, 0])\n",
    "sql_handler.insert_into_table(df)\n",
    "df"
   ]
  },
  {
   "cell_type": "code",
   "execution_count": null,
   "metadata": {},
   "outputs": [],
   "source": [
    "web_scrapper.close_browser()"
   ]
  },
  {
   "cell_type": "markdown",
   "metadata": {},
   "source": [
    "## Scrapping yesterday's data"
   ]
  },
  {
   "cell_type": "code",
   "execution_count": 6,
   "metadata": {},
   "outputs": [],
   "source": [
    "sql_handler = SqlAlquemyInsertHandler()\n",
    "web_scrapper = InvestingWebScrapper()\n",
    "web_scrapper.open_economic_calendar()\n",
    "\n",
    "df = web_scrapper.read_all_indicators()\n",
    "if (len(df) > 0):\n",
    "    print('Read', len(df), 'indicators from', \n",
    "        df.iloc[0, 0], 'to', df.iloc[-1, 0])\n",
    "else:\n",
    "    print('No events found')\n",
    "# sql_handler.insert_into_table(df)\n",
    "web_scrapper.close_browser()\n",
    "\n",
    "df"
   ]
  }
 ],
 "metadata": {
  "kernelspec": {
   "display_name": "venv",
   "language": "python",
   "name": "python3"
  },
  "language_info": {
   "codemirror_mode": {
    "name": "ipython",
    "version": 3
   },
   "file_extension": ".py",
   "mimetype": "text/x-python",
   "name": "python",
   "nbconvert_exporter": "python",
   "pygments_lexer": "ipython3",
   "version": "3.11.5"
  }
 },
 "nbformat": 4,
 "nbformat_minor": 2
}
