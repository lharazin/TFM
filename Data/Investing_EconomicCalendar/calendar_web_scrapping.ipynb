{
 "cells": [
  {
   "cell_type": "code",
   "execution_count": 1,
   "metadata": {},
   "outputs": [
    {
     "data": {
      "text/plain": [
       "True"
      ]
     },
     "execution_count": 1,
     "metadata": {},
     "output_type": "execute_result"
    }
   ],
   "source": [
    "from src.web_scrapping.InvestingWebScrapper import InvestingWebScrapper\n",
    "from src.web_scrapping.SqlAlquemyInsertHandler import SqlAlquemyInsertHandler\n",
    "\n",
    "from dotenv import load_dotenv\n",
    "load_dotenv()"
   ]
  },
  {
   "cell_type": "markdown",
   "metadata": {},
   "source": [
    "## Scrapping archive dates"
   ]
  },
  {
   "cell_type": "code",
   "execution_count": 2,
   "metadata": {},
   "outputs": [],
   "source": [
    "sql_handler = SqlAlquemyInsertHandler()\n",
    "web_scrapper = InvestingWebScrapper()\n",
    "web_scrapper.open_economic_calendar()"
   ]
  },
  {
   "cell_type": "markdown",
   "metadata": {},
   "source": [
    "Select correct dates and execute the following"
   ]
  },
  {
   "cell_type": "code",
   "execution_count": 3,
   "metadata": {},
   "outputs": [
    {
     "name": "stderr",
     "output_type": "stream",
     "text": [
      "c:\\Users\\lukas\\Documents\\Master mAI-X\\TFM\\Data\\Investing_EconomicCalendar\\src\\web_scrapping\\InvestingWebScrapper.py:102: SettingWithCopyWarning: \n",
      "A value is trying to be set on a copy of a slice from a DataFrame.\n",
      "Try using .loc[row_indexer,col_indexer] = value instead\n",
      "\n",
      "See the caveats in the documentation: https://pandas.pydata.org/pandas-docs/stable/user_guide/indexing.html#returning-a-view-versus-a-copy\n",
      "  df_filtered.loc[:, 'Date'] = df_filtered['Imp.'].ffill()\n"
     ]
    },
    {
     "name": "stdout",
     "output_type": "stream",
     "text": [
      "Read 500 indicators from 2023-12-01 00:00:00 to 2023-12-08 20:30:00\n"
     ]
    },
    {
     "data": {
      "text/html": [
       "<div>\n",
       "<style scoped>\n",
       "    .dataframe tbody tr th:only-of-type {\n",
       "        vertical-align: middle;\n",
       "    }\n",
       "\n",
       "    .dataframe tbody tr th {\n",
       "        vertical-align: top;\n",
       "    }\n",
       "\n",
       "    .dataframe thead th {\n",
       "        text-align: right;\n",
       "    }\n",
       "</style>\n",
       "<table border=\"1\" class=\"dataframe\">\n",
       "  <thead>\n",
       "    <tr style=\"text-align: right;\">\n",
       "      <th></th>\n",
       "      <th>DateTime</th>\n",
       "      <th>Country</th>\n",
       "      <th>Currency</th>\n",
       "      <th>Event</th>\n",
       "      <th>Actual</th>\n",
       "      <th>Forecast</th>\n",
       "      <th>Previous</th>\n",
       "    </tr>\n",
       "  </thead>\n",
       "  <tbody>\n",
       "    <tr>\n",
       "      <th>6</th>\n",
       "      <td>2023-12-01 00:00:00</td>\n",
       "      <td>India</td>\n",
       "      <td>INR</td>\n",
       "      <td>S&amp;P Global India Manufacturing PMI (Nov)</td>\n",
       "      <td>56.0</td>\n",
       "      <td>56.0</td>\n",
       "      <td>55.5</td>\n",
       "    </tr>\n",
       "    <tr>\n",
       "      <th>7</th>\n",
       "      <td>2023-12-01 00:30:00</td>\n",
       "      <td>Australia</td>\n",
       "      <td>AUD</td>\n",
       "      <td>Commodity Prices (YoY)</td>\n",
       "      <td>-10.5%</td>\n",
       "      <td>NaN</td>\n",
       "      <td>-15.8%</td>\n",
       "    </tr>\n",
       "    <tr>\n",
       "      <th>8</th>\n",
       "      <td>2023-12-01 01:00:00</td>\n",
       "      <td>Russia</td>\n",
       "      <td>RUB</td>\n",
       "      <td>Russian S&amp;P Global Manufacturing PMI (Nov)</td>\n",
       "      <td>53.8</td>\n",
       "      <td>NaN</td>\n",
       "      <td>53.8</td>\n",
       "    </tr>\n",
       "    <tr>\n",
       "      <th>9</th>\n",
       "      <td>2023-12-01 02:00:00</td>\n",
       "      <td>United Kingdom</td>\n",
       "      <td>GBP</td>\n",
       "      <td>Nationwide HPI (MoM) (Nov)</td>\n",
       "      <td>0.2%</td>\n",
       "      <td>-0.4%</td>\n",
       "      <td>0.9%</td>\n",
       "    </tr>\n",
       "    <tr>\n",
       "      <th>10</th>\n",
       "      <td>2023-12-01 02:00:00</td>\n",
       "      <td>United Kingdom</td>\n",
       "      <td>GBP</td>\n",
       "      <td>Nationwide HPI (YoY) (Nov)</td>\n",
       "      <td>-2.0%</td>\n",
       "      <td>-2.3%</td>\n",
       "      <td>-3.3%</td>\n",
       "    </tr>\n",
       "    <tr>\n",
       "      <th>...</th>\n",
       "      <td>...</td>\n",
       "      <td>...</td>\n",
       "      <td>...</td>\n",
       "      <td>...</td>\n",
       "      <td>...</td>\n",
       "      <td>...</td>\n",
       "      <td>...</td>\n",
       "    </tr>\n",
       "    <tr>\n",
       "      <th>587</th>\n",
       "      <td>2023-12-08 15:30:00</td>\n",
       "      <td>Russia</td>\n",
       "      <td>RUB</td>\n",
       "      <td>CFTC RUB speculative positions</td>\n",
       "      <td>-17.9K</td>\n",
       "      <td>NaN</td>\n",
       "      <td>-20.3K</td>\n",
       "    </tr>\n",
       "    <tr>\n",
       "      <th>588</th>\n",
       "      <td>2023-12-08 15:30:00</td>\n",
       "      <td>Eurozone</td>\n",
       "      <td>EUR</td>\n",
       "      <td>CFTC EUR speculative net positions</td>\n",
       "      <td>152.4K</td>\n",
       "      <td>NaN</td>\n",
       "      <td>143.2K</td>\n",
       "    </tr>\n",
       "    <tr>\n",
       "      <th>589</th>\n",
       "      <td>2023-12-08 20:30:00</td>\n",
       "      <td>China</td>\n",
       "      <td>CNY</td>\n",
       "      <td>CPI (MoM) (Nov)</td>\n",
       "      <td>-0.5%</td>\n",
       "      <td>-0.1%</td>\n",
       "      <td>-0.1%</td>\n",
       "    </tr>\n",
       "    <tr>\n",
       "      <th>590</th>\n",
       "      <td>2023-12-08 20:30:00</td>\n",
       "      <td>China</td>\n",
       "      <td>CNY</td>\n",
       "      <td>CPI (YoY) (Nov)</td>\n",
       "      <td>-0.5%</td>\n",
       "      <td>-0.1%</td>\n",
       "      <td>-0.2%</td>\n",
       "    </tr>\n",
       "    <tr>\n",
       "      <th>591</th>\n",
       "      <td>2023-12-08 20:30:00</td>\n",
       "      <td>China</td>\n",
       "      <td>CNY</td>\n",
       "      <td>PPI (YoY) (Nov)</td>\n",
       "      <td>-3.0%</td>\n",
       "      <td>-2.8%</td>\n",
       "      <td>-2.6%</td>\n",
       "    </tr>\n",
       "  </tbody>\n",
       "</table>\n",
       "<p>500 rows × 7 columns</p>\n",
       "</div>"
      ],
      "text/plain": [
       "               DateTime         Country Currency  \\\n",
       "6   2023-12-01 00:00:00           India      INR   \n",
       "7   2023-12-01 00:30:00       Australia      AUD   \n",
       "8   2023-12-01 01:00:00          Russia      RUB   \n",
       "9   2023-12-01 02:00:00  United Kingdom      GBP   \n",
       "10  2023-12-01 02:00:00  United Kingdom      GBP   \n",
       "..                  ...             ...      ...   \n",
       "587 2023-12-08 15:30:00          Russia      RUB   \n",
       "588 2023-12-08 15:30:00        Eurozone      EUR   \n",
       "589 2023-12-08 20:30:00           China      CNY   \n",
       "590 2023-12-08 20:30:00           China      CNY   \n",
       "591 2023-12-08 20:30:00           China      CNY   \n",
       "\n",
       "                                          Event  Actual Forecast Previous  \n",
       "6      S&P Global India Manufacturing PMI (Nov)    56.0     56.0     55.5  \n",
       "7                        Commodity Prices (YoY)  -10.5%      NaN   -15.8%  \n",
       "8    Russian S&P Global Manufacturing PMI (Nov)    53.8      NaN     53.8  \n",
       "9                    Nationwide HPI (MoM) (Nov)    0.2%    -0.4%     0.9%  \n",
       "10                   Nationwide HPI (YoY) (Nov)   -2.0%    -2.3%    -3.3%  \n",
       "..                                          ...     ...      ...      ...  \n",
       "587              CFTC RUB speculative positions  -17.9K      NaN   -20.3K  \n",
       "588          CFTC EUR speculative net positions  152.4K      NaN   143.2K  \n",
       "589                             CPI (MoM) (Nov)   -0.5%    -0.1%    -0.1%  \n",
       "590                             CPI (YoY) (Nov)   -0.5%    -0.1%    -0.2%  \n",
       "591                             PPI (YoY) (Nov)   -3.0%    -2.8%    -2.6%  \n",
       "\n",
       "[500 rows x 7 columns]"
      ]
     },
     "execution_count": 3,
     "metadata": {},
     "output_type": "execute_result"
    }
   ],
   "source": [
    "df = web_scrapper.read_all_indicators()\n",
    "print('Read', len(df), 'indicators from', \n",
    "      df.iloc[0, 0], 'to', df.iloc[-1, 0])\n",
    "#sql_handler.insert_into_table(df)\n",
    "df"
   ]
  },
  {
   "cell_type": "code",
   "execution_count": 4,
   "metadata": {},
   "outputs": [
    {
     "data": {
      "text/plain": [
       "array(['India', 'Australia', 'Russia', 'United Kingdom', 'Turkiye',\n",
       "       'Peru', 'Sweden', 'Thailand', 'Hungary', 'France', 'Switzerland',\n",
       "       'Poland', 'Austria', 'Czechia', 'Spain', 'Italy', 'Germany',\n",
       "       'Greece', 'Norway', 'Eurozone', 'South Africa', 'Ireland', 'Chile',\n",
       "       'Brazil', 'Canada', 'United States', 'Mexico', 'Japan',\n",
       "       'New Zealand', 'Singapore', 'Denmark', 'Argentina', 'Korea',\n",
       "       'Hong Kong', 'Philippines', 'China', 'Saudi Arabia', 'Taiwan',\n",
       "       'United Arab Emirates', 'Indonesia', 'Netherlands', 'Malaysia',\n",
       "       'Finland', 'Egypt', 'Israel', 'Colombia'], dtype=object)"
      ]
     },
     "execution_count": 4,
     "metadata": {},
     "output_type": "execute_result"
    }
   ],
   "source": [
    "df['Country'].unique()"
   ]
  },
  {
   "cell_type": "code",
   "execution_count": 5,
   "metadata": {},
   "outputs": [],
   "source": [
    "web_scrapper.close_browser()"
   ]
  },
  {
   "cell_type": "markdown",
   "metadata": {},
   "source": [
    "## Scrapping yesterday's data"
   ]
  },
  {
   "cell_type": "code",
   "execution_count": 6,
   "metadata": {},
   "outputs": [
    {
     "name": "stdout",
     "output_type": "stream",
     "text": [
      "No events found\n"
     ]
    },
    {
     "data": {
      "text/html": [
       "<div>\n",
       "<style scoped>\n",
       "    .dataframe tbody tr th:only-of-type {\n",
       "        vertical-align: middle;\n",
       "    }\n",
       "\n",
       "    .dataframe tbody tr th {\n",
       "        vertical-align: top;\n",
       "    }\n",
       "\n",
       "    .dataframe thead th {\n",
       "        text-align: right;\n",
       "    }\n",
       "</style>\n",
       "<table border=\"1\" class=\"dataframe\">\n",
       "  <thead>\n",
       "    <tr style=\"text-align: right;\">\n",
       "      <th></th>\n",
       "      <th>DateTime</th>\n",
       "      <th>Country</th>\n",
       "      <th>Currency</th>\n",
       "      <th>Event</th>\n",
       "      <th>Actual</th>\n",
       "      <th>Forecast</th>\n",
       "      <th>Previous</th>\n",
       "    </tr>\n",
       "  </thead>\n",
       "  <tbody>\n",
       "  </tbody>\n",
       "</table>\n",
       "</div>"
      ],
      "text/plain": [
       "Empty DataFrame\n",
       "Columns: [DateTime, Country, Currency, Event, Actual, Forecast, Previous]\n",
       "Index: []"
      ]
     },
     "execution_count": 6,
     "metadata": {},
     "output_type": "execute_result"
    }
   ],
   "source": [
    "sql_handler = SqlAlquemyInsertHandler()\n",
    "web_scrapper = InvestingWebScrapper()\n",
    "web_scrapper.open_economic_calendar()\n",
    "\n",
    "df = web_scrapper.read_all_indicators()\n",
    "if (len(df) > 0):\n",
    "    print('Read', len(df), 'indicators from', \n",
    "        df.iloc[0, 0], 'to', df.iloc[-1, 0])\n",
    "else:\n",
    "    print('No events found')\n",
    "# sql_handler.insert_into_table(df)\n",
    "web_scrapper.close_browser()\n",
    "\n",
    "df"
   ]
  }
 ],
 "metadata": {
  "kernelspec": {
   "display_name": "venv",
   "language": "python",
   "name": "python3"
  },
  "language_info": {
   "codemirror_mode": {
    "name": "ipython",
    "version": 3
   },
   "file_extension": ".py",
   "mimetype": "text/x-python",
   "name": "python",
   "nbconvert_exporter": "python",
   "pygments_lexer": "ipython3",
   "version": "3.11.5"
  }
 },
 "nbformat": 4,
 "nbformat_minor": 2
}
