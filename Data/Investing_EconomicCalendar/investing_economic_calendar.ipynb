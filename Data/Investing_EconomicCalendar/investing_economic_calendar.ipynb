{
 "cells": [
  {
   "cell_type": "code",
   "execution_count": 1,
   "metadata": {},
   "outputs": [
    {
     "data": {
      "text/plain": [
       "True"
      ]
     },
     "execution_count": 1,
     "metadata": {},
     "output_type": "execute_result"
    }
   ],
   "source": [
    "from InvestingWebScrapper import InvestingWebScrapper\n",
    "from SqlAlquemyInsertHandler import SqlAlquemyInsertHandler\n",
    "\n",
    "from dotenv import load_dotenv\n",
    "load_dotenv()"
   ]
  },
  {
   "cell_type": "code",
   "execution_count": 2,
   "metadata": {},
   "outputs": [
    {
     "name": "stdout",
     "output_type": "stream",
     "text": [
      "."
     ]
    }
   ],
   "source": [
    "sql_handler = SqlAlquemyInsertHandler()\n",
    "web_scrapper = InvestingWebScrapper()\n",
    "web_scrapper.open_economic_calendar()"
   ]
  },
  {
   "cell_type": "code",
   "execution_count": 78,
   "metadata": {},
   "outputs": [
    {
     "name": "stderr",
     "output_type": "stream",
     "text": [
      "c:\\Users\\lukas\\Documents\\Master mAI-X\\TFM\\Data\\Investing_EconomicCalendar\\InvestingWebScrapper.py:51: SettingWithCopyWarning: \n",
      "A value is trying to be set on a copy of a slice from a DataFrame.\n",
      "Try using .loc[row_indexer,col_indexer] = value instead\n",
      "\n",
      "See the caveats in the documentation: https://pandas.pydata.org/pandas-docs/stable/user_guide/indexing.html#returning-a-view-versus-a-copy\n",
      "  df_filtered.loc[:, 'Date'] = df_filtered['Imp.'].ffill()\n"
     ]
    },
    {
     "name": "stdout",
     "output_type": "stream",
     "text": [
      "Read 1066 indicators from 2019-12-01 16:30:00 to 2019-12-31 19:00:00\n",
      "Executing insert sql...\n",
      "Inserted 200 records\n",
      "Executing insert sql...\n",
      "Inserted 200 records\n",
      "Executing insert sql...\n",
      "Inserted 200 records\n",
      "Executing insert sql...\n",
      "Inserted 200 records\n",
      "Executing insert sql...\n",
      "Inserted 200 records\n",
      "Executing insert sql...\n",
      "Inserted 66 records\n"
     ]
    }
   ],
   "source": [
    "df = web_scrapper.read_all_indicators()\n",
    "print('Read', len(df), 'indicators from', \n",
    "      df.iloc[0, 0], 'to', df.iloc[-1, 0])\n",
    "sql_handler.insert_into_table(df)"
   ]
  },
  {
   "cell_type": "markdown",
   "metadata": {},
   "source": [
    "TODO: Continue from 01-01-2020"
   ]
  }
 ],
 "metadata": {
  "kernelspec": {
   "display_name": "venv",
   "language": "python",
   "name": "python3"
  },
  "language_info": {
   "codemirror_mode": {
    "name": "ipython",
    "version": 3
   },
   "file_extension": ".py",
   "mimetype": "text/x-python",
   "name": "python",
   "nbconvert_exporter": "python",
   "pygments_lexer": "ipython3",
   "version": "3.11.5"
  }
 },
 "nbformat": 4,
 "nbformat_minor": 2
}
