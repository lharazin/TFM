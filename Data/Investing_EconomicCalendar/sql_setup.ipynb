{
 "cells": [
  {
   "cell_type": "code",
   "execution_count": 48,
   "metadata": {},
   "outputs": [
    {
     "data": {
      "text/plain": [
       "True"
      ]
     },
     "execution_count": 48,
     "metadata": {},
     "output_type": "execute_result"
    }
   ],
   "source": [
    "import boto3\n",
    "from botocore.exceptions import ClientError\n",
    "import json\n",
    "import sqlalchemy as sal\n",
    "import pyodbc\n",
    "import pandas as pd\n",
    "import os\n",
    "\n",
    "from dotenv import load_dotenv\n",
    "\n",
    "load_dotenv()"
   ]
  },
  {
   "cell_type": "code",
   "execution_count": 49,
   "metadata": {},
   "outputs": [],
   "source": [
    "def get_secret():\n",
    "\n",
    "    secret_name = os.environ.get(\"AWS_SECRET_NAME\")\n",
    "    region_name = os.environ.get(\"AWS_REGION_NAME\")\n",
    "\n",
    "    # Create a Secrets Manager client\n",
    "    session = boto3.session.Session()\n",
    "    client = session.client(\n",
    "        service_name='secretsmanager',\n",
    "        region_name=region_name\n",
    "    )\n",
    "\n",
    "    try:\n",
    "        get_secret_value_response = client.get_secret_value(\n",
    "            SecretId=secret_name\n",
    "        )\n",
    "    except ClientError as e:\n",
    "        raise e\n",
    "\n",
    "    # Decrypts secret using the associated KMS key.\n",
    "    secret = get_secret_value_response['SecretString']\n",
    "\n",
    "    secret_json = json.loads(secret)\n",
    "    return (secret_json['username'], secret_json['password'])"
   ]
  },
  {
   "cell_type": "code",
   "execution_count": 50,
   "metadata": {},
   "outputs": [],
   "source": [
    "def get_sql_alquemy_engine():\n",
    "    db_server_address = os.environ.get(\"AWS_DB_SERVER_ADDRESS\")\n",
    "    db_server_port = 1433\n",
    "    db_name = 'tfm-indicators'\n",
    "    username, password = get_secret()\n",
    "\n",
    "    engine = sal.create_engine(f\"mssql+pyodbc://{username}:{password}@{db_server_address}:{db_server_port}/{db_name}?driver=ODBC+Driver+17+for+SQL+Server\",\n",
    "                            fast_executemany = True)\n",
    "    return engine"
   ]
  },
  {
   "cell_type": "code",
   "execution_count": 51,
   "metadata": {},
   "outputs": [],
   "source": [
    "def insert_into_economic_calendar_table(df):\n",
    "    i = 0\n",
    "    engine = get_sql_alquemy_engine()\n",
    "    with engine.connect() as connection:\n",
    "        sql = \"INSERT INTO [InvestingEconomicCalendar] (DateTime, Country, Currency, Event, Actual, Forecast, Previous) VALUES \"\n",
    "\n",
    "        for ind,row in df.iterrows():\n",
    "            event = row['Event'].replace(\"'\",\"\")\n",
    "            sql += f\"('{row['DateTime']}','{row['Country']}','{row['Currency']}','{event}','{row['Actual']}','{row['Forecast']}','{row['Previous']}')\"\n",
    "            i += 1\n",
    "            print('.', end='')\n",
    "            \n",
    "            if i == 100:\n",
    "                connection.execute(sal.text(sql))\n",
    "                sql = \"INSERT INTO [InvestingEconomicCalendar] (DateTime, Country, Currency, Event, Actual, Forecast, Previous) VALUES \"\n",
    "                print('sent')\n",
    "                i = 0\n",
    "            else:\n",
    "                sql += \", \"\n",
    "\n",
    "        if i > 0:\n",
    "            sql = sql[:-2] # romove final coma\n",
    "            connection.execute(sal.text(sql))\n",
    "            print('sent')\n",
    "\n",
    "        connection.commit()\n"
   ]
  },
  {
   "cell_type": "code",
   "execution_count": 52,
   "metadata": {},
   "outputs": [
    {
     "name": "stderr",
     "output_type": "stream",
     "text": [
      "C:\\Users\\lukas\\AppData\\Local\\Temp\\ipykernel_16200\\2476591594.py:1: UserWarning: Could not infer format, so each element will be parsed individually, falling back to `dateutil`. To ensure parsing is consistent and as-expected, please specify a format.\n",
      "  df = pd.read_csv('economic_calendar.csv', parse_dates=True, index_col=0)\n"
     ]
    },
    {
     "name": "stdout",
     "output_type": "stream",
     "text": [
      "....................................................................................................sent\n",
      "....................................................................................................sent\n",
      "....................................................................................................sent\n",
      "....................................................................................................sent\n",
      "....................................................................................................sent\n",
      "....................................................................................................sent\n",
      "....................................................................................................sent\n",
      "....................................................................................................sent\n",
      "....................................................................................................sent\n",
      "....................................................................................................sent\n",
      "....................................................................sent\n"
     ]
    }
   ],
   "source": [
    "df = pd.read_csv('economic_calendar.csv', parse_dates=True, index_col=0)\n",
    "insert_into_economic_calendar_table(df)"
   ]
  },
  {
   "cell_type": "code",
   "execution_count": 45,
   "metadata": {},
   "outputs": [],
   "source": [
    "engine = get_sql_alquemy_engine()\n",
    "with engine.connect() as connection:\n",
    "    connection.execute(sal.text(\"DELETE FROM InvestingEconomicCalendar\"))\n",
    "    connection.commit()"
   ]
  },
  {
   "cell_type": "code",
   "execution_count": 53,
   "metadata": {},
   "outputs": [
    {
     "name": "stdout",
     "output_type": "stream",
     "text": [
      "(1068,)\n"
     ]
    }
   ],
   "source": [
    "engine = get_sql_alquemy_engine()\n",
    "with engine.connect() as connection:\n",
    "    result = connection.execute(sal.text(\"select count(*) from InvestingEconomicCalendar\"))\n",
    "    for row in result:\n",
    "        print(row)"
   ]
  }
 ],
 "metadata": {
  "kernelspec": {
   "display_name": "venv",
   "language": "python",
   "name": "python3"
  },
  "language_info": {
   "codemirror_mode": {
    "name": "ipython",
    "version": 3
   },
   "file_extension": ".py",
   "mimetype": "text/x-python",
   "name": "python",
   "nbconvert_exporter": "python",
   "pygments_lexer": "ipython3",
   "version": "3.11.5"
  }
 },
 "nbformat": 4,
 "nbformat_minor": 2
}
