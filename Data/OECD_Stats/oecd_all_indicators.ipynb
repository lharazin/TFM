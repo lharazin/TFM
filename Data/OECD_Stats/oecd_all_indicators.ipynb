{
 "cells": [
  {
   "cell_type": "code",
   "execution_count": 1,
   "metadata": {},
   "outputs": [],
   "source": [
    "from dotenv import load_dotenv\n",
    "load_dotenv()\n",
    "\n",
    "import os\n",
    "os.chdir(os.path.expanduser('../AWS_Lambdas/src/lambda_oecd_download/'))\n",
    "import app"
   ]
  },
  {
   "cell_type": "code",
   "execution_count": 2,
   "metadata": {},
   "outputs": [
    {
     "name": "stdout",
     "output_type": "stream",
     "text": [
      "GDP Annual Growth Rate: Nothing new to save\n",
      "GDP Growth Rate: Nothing new to save\n",
      "GDP Per Capita: Nothing new to save\n",
      "GDP Current Prices US Dollars: Nothing new to save\n",
      "GDP Current Prices PPP: Nothing new to save\n",
      "Unemployment Rate: Inserted 280 records\n",
      "Unemployment Rate Quarterly: Inserted 90 records\n",
      "Inflation Rate: Inserted 377 records\n",
      "Inflation Rate Quarterly: Nothing new to save\n",
      "Inflation Rate MoM: Inserted 374 records\n",
      "CPI: Inserted 363 records\n",
      "PPI Manufacture of food products: Nothing new to save\n",
      "PPI Manufacturing: Nothing new to save\n",
      "Overnight Interbank Rate: Nothing new to save\n",
      "Short Term Interest Rate: Nothing new to save\n",
      "Long Term Interest Rate: Nothing new to save\n",
      "Narrow Money M1: Nothing new to save\n",
      "Broad Money M3: Nothing new to save\n",
      "Current Account to GDP: Nothing new to save\n",
      "Export of goods and services: Nothing new to save\n",
      "Import of goods and services: Nothing new to save\n",
      "Export - Value (goods): Nothing new to save\n",
      "Import - Value (goods): Nothing new to save\n",
      "Net Trade - Value (goods): Nothing new to save\n",
      "Government Debt to GDP: Nothing new to save\n",
      "Total Government Expenditure: Nothing new to save\n",
      "Total Government Revenue: Nothing new to save\n",
      "OECD Bussiness Confidence Indicator: Nothing new to save\n",
      "OECD Composite Leading Indicator: Nothing new to save\n",
      "Industrial Production: Nothing new to save\n",
      "Total Manufacturing: Nothing new to save\n",
      "Total Industry ex Construction: Nothing new to save\n",
      "Total Construction: Nothing new to save\n",
      "Changes in Inventories: Nothing new to save\n",
      "OECD Consumer Confidence Indicator: Nothing new to save\n",
      "Private Consumption: Nothing new to save\n",
      "Total Retail Sales Value: Nothing new to save\n",
      "Passenger Car Registration: Nothing new to save\n",
      "Permits Issued (Residential Buildings): Inserted 172 records\n",
      "Done\n"
     ]
    }
   ],
   "source": [
    "app.handler({},{})"
   ]
  }
 ],
 "metadata": {
  "kernelspec": {
   "display_name": "venv",
   "language": "python",
   "name": "python3"
  },
  "language_info": {
   "codemirror_mode": {
    "name": "ipython",
    "version": 3
   },
   "file_extension": ".py",
   "mimetype": "text/x-python",
   "name": "python",
   "nbconvert_exporter": "python",
   "pygments_lexer": "ipython3",
   "version": "3.11.5"
  }
 },
 "nbformat": 4,
 "nbformat_minor": 2
}
