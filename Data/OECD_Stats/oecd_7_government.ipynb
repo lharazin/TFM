{
 "cells": [
  {
   "cell_type": "code",
   "execution_count": 1,
   "metadata": {},
   "outputs": [],
   "source": [
    "from oecd_api import get_oecd_data"
   ]
  },
  {
   "cell_type": "markdown",
   "metadata": {},
   "source": [
    "\tGovernment Debt to GDP\n",
    "\t\thttps://stats.oecd.org/SDMX-JSON/data/FIN_IND_FBS/HUN+ISL.DBTADJS13GDP/all?startTime=1999&endTime=2022\n",
    "\tGovernment Budget\n",
    "\t\thttps://stats.oecd.org/SDMX-JSON/data/SNA_TABLE12/AUS+POL.GB9+GTE+GTR+GD995+B1_GE.GS13+GS1311+GS1312+GS1313+GS1314+S1.C/all?startTime=2000&endTime=2022\n",
    "\t\t\n",
    "\t\tGB9 - Net lending(+)/Net borrowing(-)\n",
    "\t\tGTE - Total general government expenditure\n",
    "\t\tGTR - Total general government revenue\n",
    "        "
   ]
  },
  {
   "cell_type": "code",
   "execution_count": null,
   "metadata": {},
   "outputs": [],
   "source": []
  }
 ],
 "metadata": {
  "kernelspec": {
   "display_name": "venv",
   "language": "python",
   "name": "python3"
  },
  "language_info": {
   "codemirror_mode": {
    "name": "ipython",
    "version": 3
   },
   "file_extension": ".py",
   "mimetype": "text/x-python",
   "name": "python",
   "nbconvert_exporter": "python",
   "pygments_lexer": "ipython3",
   "version": "3.11.5"
  }
 },
 "nbformat": 4,
 "nbformat_minor": 2
}
